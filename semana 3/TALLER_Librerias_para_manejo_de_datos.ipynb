{
  "cells": [
    {
      "cell_type": "markdown",
      "metadata": {
        "deletable": false,
        "editable": false,
        "id": "77U9n-hJm9fU",
        "nbgrader": {
          "cell_type": "markdown",
          "checksum": "8408b526e4d3ee87ed1570506bf3a489",
          "grade": false,
          "grade_id": "obj",
          "locked": true,
          "schema_version": 3,
          "solution": false,
          "task": false
        }
      },
      "source": [
        "## Habilidades en práctica\n",
        "\n",
        "Al realizar este taller podrás revisar tu progreso para:\n",
        "\n",
        "**1.** Utilizar arreglos y operaciones básicas en `numpy`. <br>\n",
        "**2.** Crear, indexar y utilizar métodos para explorar y manipular `Series` y `DataFrame` en `pandas`."
      ]
    },
    {
      "cell_type": "markdown",
      "metadata": {
        "deletable": false,
        "editable": false,
        "id": "CmtfcNwPm9fV",
        "nbgrader": {
          "cell_type": "markdown",
          "checksum": "fad29e53c312484d67e1ae1f9d3ffcd1",
          "grade": false,
          "grade_id": "instr",
          "locked": true,
          "schema_version": 3,
          "solution": false,
          "task": false
        }
      },
      "source": [
        "## Instrucciones\n",
        "\n",
        "En cada uno de los siguientes ejercicios deberás escribir el código solicitado estrictamente en las celdas indicadas para ello, teniendo en cuenta las siguientes recomendaciones:\n",
        "\n",
        "* No crear, eliminar o modificar celdas de este Notebook (salvo lo que se te indique), pues puede verse afectado el proceso de calificación automática.\n",
        "* La calificación se realiza de manera automática con datos diferentes a los proporcionados en este taller. Por consiguiente, tu código debe funcionar para diferentes instancias de cada uno de los ejercicios; una instancia hace referencia al valor de los parámetros.\n",
        "* La calificación de cada ejercicio depende del valor que tome la variable especificada en su enunciado. Por lo tanto, aunque declares variables adicionales en tu código, es escencial que utilices los nombres de las variables propuestas en los enunciados de los ejercicios para guardar el resultado final.\n",
        "\n",
        "Esta es una actividad calificada y, por lo tanto, debe ser resuelta individualmente.\n",
        "\n",
        "A continuación puedes ver un ejemplo de los ejercicios que encontrarás en este taller."
      ]
    },
    {
      "cell_type": "markdown",
      "metadata": {
        "deletable": false,
        "editable": false,
        "id": "XoAo7rLOm9fV",
        "nbgrader": {
          "cell_type": "markdown",
          "checksum": "6b1ab0c8a6eedea63ce8a328037a3d60",
          "grade": false,
          "grade_id": "ejer-import-enun",
          "locked": true,
          "schema_version": 3,
          "solution": false,
          "task": false
        }
      },
      "source": [
        "## Ejercicios\n",
        "En la siguente celda encuentras declarados los paquetes necesarios para el desarollo de este taller."
      ]
    },
    {
      "cell_type": "code",
      "execution_count": null,
      "metadata": {
        "deletable": false,
        "editable": false,
        "id": "ph-UcyVhm9fV",
        "nbgrader": {
          "cell_type": "code",
          "checksum": "7ec92ff36db037d8419a6a240c030026",
          "grade": false,
          "grade_id": "eje-import",
          "locked": true,
          "schema_version": 3,
          "solution": false,
          "task": false
        }
      },
      "outputs": [],
      "source": [
        "# Esta celda no es modificable.\n",
        "\n",
        "import numpy as np\n",
        "import pandas as pd"
      ]
    },
    {
      "cell_type": "markdown",
      "metadata": {
        "deletable": false,
        "editable": false,
        "id": "tHmFHGzgm9fW",
        "nbgrader": {
          "cell_type": "markdown",
          "checksum": "6e05ea7f5bf2dea606b00e2e6c01dc9a",
          "grade": false,
          "grade_id": "eje-import-enun",
          "locked": true,
          "schema_version": 3,
          "solution": false,
          "task": false
        }
      },
      "source": [
        "### Ejemplo\n",
        "A continuación encuentras dos arreglos. Cada uno contiene los salarios (en USD) de los funcionarios de un área de una empresa."
      ]
    },
    {
      "cell_type": "code",
      "execution_count": null,
      "metadata": {
        "deletable": false,
        "editable": false,
        "id": "lLR7PSgum9fW",
        "nbgrader": {
          "cell_type": "code",
          "checksum": "d92363ff39e185a20857a4293ee036fe",
          "grade": false,
          "grade_id": "eje-data",
          "locked": true,
          "schema_version": 3,
          "solution": false,
          "task": false
        }
      },
      "outputs": [],
      "source": [
        "# Esta celda no es modificable.\n",
        "\n",
        "mercadeo = np.array([2000, 1500, 1300, 1600])\n",
        "logistica = np.array([1800, 1600, 1200, 1100])"
      ]
    },
    {
      "cell_type": "markdown",
      "metadata": {
        "deletable": false,
        "editable": false,
        "id": "-RC6jUYam9fW",
        "nbgrader": {
          "cell_type": "markdown",
          "checksum": "b52281eca001327146afba2a0b88893f",
          "grade": false,
          "grade_id": "eje-task",
          "locked": true,
          "schema_version": 3,
          "solution": false,
          "task": false
        }
      },
      "source": [
        "Implementa una función llamada `suma` que reciba dos arreglos por parámetro, los una y retorne la suma de los elementos de la unión.\n",
        "\n",
        "*Esta función debe retornar un `int`.*"
      ]
    },
    {
      "cell_type": "code",
      "execution_count": null,
      "metadata": {
        "deletable": false,
        "editable": false,
        "id": "PMuAQh5Rm9fW",
        "nbgrader": {
          "cell_type": "code",
          "checksum": "2d5df999a41bbf4ed6692cdc0260c02f",
          "grade": false,
          "grade_id": "eje-sol",
          "locked": true,
          "schema_version": 3,
          "solution": false,
          "task": false
        }
      },
      "outputs": [],
      "source": [
        "# Implementa tu respuesta en esta celda.\n",
        "\n",
        "def suma(arreglo1, arreglo2):\n",
        "\n",
        "    concatenado = np.concatenate((arreglo1,arreglo2))\n",
        "    respuesta = concatenado.sum()\n",
        "\n",
        "    return respuesta\n",
        "\n",
        "suma(mercadeo, logistica)"
      ]
    },
    {
      "cell_type": "markdown",
      "metadata": {
        "deletable": false,
        "editable": false,
        "id": "NF8RLXWMm9fX",
        "nbgrader": {
          "cell_type": "markdown",
          "checksum": "19a6213ef656b752d98a6115277411e9",
          "grade": false,
          "grade_id": "ej1-enun",
          "locked": true,
          "schema_version": 3,
          "solution": false,
          "task": false
        }
      },
      "source": [
        "### Ejercicio 1\n",
        "A continuación encuentras dos arreglos. Cada uno contiene los salarios (en USD) de los funcionarios de un área de una empresa."
      ]
    },
    {
      "cell_type": "code",
      "execution_count": null,
      "metadata": {
        "deletable": false,
        "editable": false,
        "id": "7xJyfnX8m9fX",
        "nbgrader": {
          "cell_type": "code",
          "checksum": "e1c69742d999a18b69373d6b48f7f320",
          "grade": false,
          "grade_id": "ej1-data",
          "locked": true,
          "schema_version": 3,
          "solution": false,
          "task": false
        }
      },
      "outputs": [],
      "source": [
        "# Esta celda no es modificable.\n",
        "mercadeo = np.array([2000, 1500, 1300, 1600])\n",
        "logistica = np.array([1800, 1600, 1200, 1600])\n"
      ]
    },
    {
      "cell_type": "markdown",
      "metadata": {
        "deletable": false,
        "editable": false,
        "id": "uE6SULRZm9fX",
        "nbgrader": {
          "cell_type": "markdown",
          "checksum": "e004f89008b97139414d3801e668b02c",
          "grade": false,
          "grade_id": "ej1-task",
          "locked": true,
          "schema_version": 3,
          "solution": false,
          "task": false
        }
      },
      "source": [
        "Implementa una función llamada `promedio` que reciba dos arreglos por parámetro, los una y retorne el promedio de los elementos de la unión.\n",
        "\n",
        "*Esta función debe retornar un `float`*."
      ]
    },
    {
      "cell_type": "code",
      "execution_count": 8,
      "metadata": {
        "deletable": false,
        "id": "GQfb8TYRm9fX",
        "nbgrader": {
          "cell_type": "code",
          "checksum": "18f7c3426a800c42631fab7a78383292",
          "grade": false,
          "grade_id": "ej1-sol",
          "locked": false,
          "schema_version": 3,
          "solution": true,
          "task": false
        }
      },
      "outputs": [
        {
          "name": "stdout",
          "output_type": "stream",
          "text": [
            "Requirement already satisfied: numpy in c:\\users\\jdavi\\appdata\\local\\programs\\python\\python310\\lib\\site-packages (2.2.6)\n",
            "1575.0\n"
          ]
        },
        {
          "name": "stderr",
          "output_type": "stream",
          "text": [
            "\n",
            "[notice] A new release of pip is available: 23.0.1 -> 25.2\n",
            "[notice] To update, run: python.exe -m pip install --upgrade pip\n"
          ]
        }
      ],
      "source": [
        "# your code here\n",
        "# toca instalar numpy para que funcione en Colab por eso lo hago profe    \n",
        "!pip install numpy\n",
        "import numpy as np\n",
        "def promedio(arreglo1, arreglo2):\n",
        "    concatenado = np.concatenate((arreglo1, arreglo2))\n",
        "    return concatenado.mean()\n",
        "mercadeo = np.array([2000, 1500, 1300, 1600])\n",
        "logistica = np.array([1800, 1600, 1200, 1600])\n",
        "print(promedio(mercadeo, logistica)) \n",
        "\n",
        "\n"
      ]
    },
    {
      "cell_type": "code",
      "execution_count": 9,
      "metadata": {
        "deletable": false,
        "editable": false,
        "id": "4oAejajam9fX",
        "nbgrader": {
          "cell_type": "code",
          "checksum": "c32ede0f718ee4d2a5aaee48da5d1f4f",
          "grade": true,
          "grade_id": "ej1-test",
          "locked": true,
          "points": 1,
          "schema_version": 3,
          "solution": false,
          "task": false
        }
      },
      "outputs": [
        {
          "name": "stdout",
          "output_type": "stream",
          "text": [
            "Felicidades, realizaste este ejercicio correctamente.\n"
          ]
        }
      ],
      "source": [
        "## AUTO-CALIFICADOR\n",
        "\n",
        "# Base variables\n",
        "mercadeo_test = np.array([2000, 1800, 1300])\n",
        "logistica_test = np.array([1100, 1900, 1600, 1500])\n",
        "# Respuestas 1800 og  y 1600 test\n",
        "\n",
        "# Caso 1: no existe la función.\n",
        "try:\n",
        "    promedio\n",
        "    assert type(promedio) == type(lambda:None)\n",
        "except:\n",
        "    raise NotImplementedError(\"No existe una función llamada promedio.\",)\n",
        "\n",
        "# Caso 2: la función es interrumpida por errores durante su ejecución.\n",
        "try:\n",
        "    promedio(mercadeo, logistica)\n",
        "    promedio(mercadeo_test, logistica_test)\n",
        "except:\n",
        "    raise RuntimeError(\"Tu función produce un error al ejecutarse.\")\n",
        "\n",
        "# Caso 3: no retorna un número\n",
        "assert type(promedio(mercadeo_test, logistica_test)) == np.float64, f\"Tu función debe retornar un valor de tipo {np.float64}.\"\n",
        "\n",
        "# Caso 4: respuesta explicita\n",
        "assert promedio(mercadeo_test, logistica_test) != 1800.0, \"Tu respuesta es incorrecta para una instancia diferente. Utiliza los parámetros.\"\n",
        "\n",
        "# Caso 5: procedimiento incorrecto\n",
        "assert promedio(mercadeo_test, logistica_test) <= 1600.0, \"Tu respuesta es incorrecta. Asegurate de cocatenar los arreglos y luego calcular un promedio.\"\n",
        "\n",
        "# Caso 6: retorna un numero distinto del esperado\n",
        "assert promedio(mercadeo_test, logistica_test) == 1600.0, \"Tu respuesta es incorrecta. Es posible que hayas omitido algún valor al realizar el cálculo.\"\n",
        "assert promedio(mercadeo, logistica) == 1575.0, \"Tu respuesta es incorrecta. Es posible que hayas omitido algún valor al realizar el cálculo.\"\n",
        "\n",
        "# Mensaje de felicitaciones\n",
        "print(\"Felicidades, realizaste este ejercicio correctamente.\")"
      ]
    },
    {
      "cell_type": "markdown",
      "metadata": {
        "deletable": false,
        "editable": false,
        "id": "J114ElZTm9fX",
        "nbgrader": {
          "cell_type": "markdown",
          "checksum": "74680175c4365418d62c934ab7f1a049",
          "grade": false,
          "grade_id": "ej2-enun",
          "locked": true,
          "schema_version": 3,
          "solution": false,
          "task": false
        }
      },
      "source": [
        "### Ejercicio 2\n",
        "\n",
        "A continuación encuentras un `Series` que contiene la edad de Sonia y sus hermanos. Ellos quieren quienes son los dos mayores para estar atentos a la vacunación."
      ]
    },
    {
      "cell_type": "code",
      "execution_count": null,
      "metadata": {
        "deletable": false,
        "editable": false,
        "id": "uMT32E-wm9fX",
        "nbgrader": {
          "cell_type": "code",
          "checksum": "690d7d7f1a3e4cce7f75808ec9aaddff",
          "grade": false,
          "grade_id": "ej2-data",
          "locked": true,
          "schema_version": 3,
          "solution": false,
          "task": false
        }
      },
      "outputs": [],
      "source": [
        "# Esta celda no es modificable.\n",
        "\n",
        "hermanos = pd.Series({\"Sonia\": 40, \"Patricia\": 42, \"Jorge\": 37, \"Alejandro\": 45, \"Aura\": 47, \"Carlos\": 40, \"Claudia\": 41, \"Victor\": 43})"
      ]
    },
    {
      "cell_type": "markdown",
      "metadata": {
        "deletable": false,
        "editable": false,
        "id": "W0_e_MsUm9fY",
        "nbgrader": {
          "cell_type": "markdown",
          "checksum": "b1802437d81e1c4f32e054fb3cd5ebb0",
          "grade": false,
          "grade_id": "ej2-task",
          "locked": true,
          "schema_version": 3,
          "solution": false,
          "task": false
        }
      },
      "source": [
        "Implementa una función llamada `mayores` que reciba un `Series` por parámetro y retorne los dos mayores valores en una tupla.\n",
        "\n",
        "*Esta función debe retornar una tupla de la forma* `(mayor_valor1, mayor_valor2)` *, dónde* `mayor_valor1` *es mayor o igual que* `mayor_valor2` *.*"
      ]
    },
    {
      "cell_type": "code",
      "execution_count": null,
      "metadata": {
        "deletable": false,
        "id": "U5PKsVQCm9fY",
        "nbgrader": {
          "cell_type": "code",
          "checksum": "10353e780cf9b15c94f91380430ca7a8",
          "grade": false,
          "grade_id": "ej2-sol",
          "locked": false,
          "schema_version": 3,
          "solution": true,
          "task": false
        }
      },
      "outputs": [
        {
          "name": "stdout",
          "output_type": "stream",
          "text": [
            "Requirement already satisfied: pandas in c:\\users\\jdavi\\appdata\\local\\programs\\python\\python310\\lib\\site-packages (2.3.2)\n",
            "Requirement already satisfied: tzdata>=2022.7 in c:\\users\\jdavi\\appdata\\local\\programs\\python\\python310\\lib\\site-packages (from pandas) (2025.2)\n",
            "Requirement already satisfied: pytz>=2020.1 in c:\\users\\jdavi\\appdata\\local\\programs\\python\\python310\\lib\\site-packages (from pandas) (2025.2)\n",
            "Requirement already satisfied: python-dateutil>=2.8.2 in c:\\users\\jdavi\\appdata\\roaming\\python\\python310\\site-packages (from pandas) (2.9.0.post0)\n",
            "Requirement already satisfied: numpy>=1.22.4 in c:\\users\\jdavi\\appdata\\local\\programs\\python\\python310\\lib\\site-packages (from pandas) (2.2.6)\n",
            "Requirement already satisfied: six>=1.5 in c:\\users\\jdavi\\appdata\\roaming\\python\\python310\\site-packages (from python-dateutil>=2.8.2->pandas) (1.17.0)\n"
          ]
        },
        {
          "name": "stderr",
          "output_type": "stream",
          "text": [
            "\n",
            "[notice] A new release of pip is available: 23.0.1 -> 25.2\n",
            "[notice] To update, run: python.exe -m pip install --upgrade pip\n"
          ]
        }
      ],
      "source": [
        "# your code here\n",
        "\n",
        "!pip install pandas\n",
        "\n",
        "import pandas as pd\n",
        "\n",
        "\n",
        "hermanos = pd.Series({\n",
        "    \"Sonia\": 40, \"Patricia\": 42, \"Jorge\": 37,\n",
        "    \"Alejandro\": 45, \"Aura\": 47, \"Carlos\": 40,\n",
        "    \"Claudia\": 41, \"Victor\": 43\n",
        "})\n",
        "\n",
        "\n",
        "def mayores(series):\n",
        "    mayor1 = -1\n",
        "    mayor2 = -1\n",
        "    for edad in series:\n",
        "        if edad > mayor1:\n",
        "            mayor2 = mayor1\n",
        "            mayor1 = edad\n",
        "        elif edad > mayor2:\n",
        "            mayor2 = edad\n",
        "    return (mayor1, mayor2)\n",
        "\n",
        "\n",
        "\n"
      ]
    },
    {
      "cell_type": "code",
      "execution_count": 16,
      "metadata": {
        "deletable": false,
        "editable": false,
        "id": "h8oWn2S8m9fY",
        "nbgrader": {
          "cell_type": "code",
          "checksum": "6e96636dd5a9fb11e6eb0f765fe61b66",
          "grade": true,
          "grade_id": "ej2-test",
          "locked": true,
          "points": 1,
          "schema_version": 3,
          "solution": false,
          "task": false
        }
      },
      "outputs": [
        {
          "name": "stdout",
          "output_type": "stream",
          "text": [
            "Felicidades, realizaste este ejercicio correctamente.\n"
          ]
        }
      ],
      "source": [
        "## AUTO-CALIFICADOR\n",
        "\n",
        "# Base variables\n",
        "hermanos_test = pd.Series({\"Sonia\": 43, \"Patricia\": 46, \"Jorge\": 39, \"Alejandro\": 40, \"Aura\": 30, \"Carlos\": 41, \"Claudia\": 40})\n",
        "\n",
        "# Caso 1: no existe la función.\n",
        "try:\n",
        "    mayores\n",
        "    assert type(mayores) == type(lambda:None)\n",
        "except:\n",
        "    raise NotImplementedError(\"No existe una función llamada mayores.\",)\n",
        "\n",
        "# Caso 2: la función es interrumpida por errores durante su ejecución.\n",
        "try:\n",
        "    mayores(hermanos)\n",
        "    mayores(hermanos_test)\n",
        "except:\n",
        "    raise RuntimeError(\"Tu función produce un error al ejecutarse.\")\n",
        "\n",
        "# Caso 3: no retorna una lista\n",
        "assert type(mayores(hermanos_test)) == type((\"\",)), f\"Tu función debe retornar un objeto de tipo {type(tuple).__name__}.\"\n",
        "\n",
        "# Caso 4: tamaño incorrecto\n",
        "assert len(mayores(hermanos_test)) == 2, \"Tu función retorna una lista de un tamaño diferente al solicitado.\"\n",
        "\n",
        "# Caso 5: procedimiento incorrecto\n",
        "assert mayores(hermanos_test) != [47, 45], \"Tu respuesta es incorrecta para una instancia diferente. Utiliza los parámetros.\"\n",
        "\n",
        "# Caso 6: la lista no contiene todos los valores correctos\n",
        "try:\n",
        "    assert mayores(hermanos_test).count(46) >= 1\n",
        "    assert mayores(hermanos_test).count(43) >= 1\n",
        "except AssertionError as e:\n",
        "    e.args += (\"Tu respuesta no contiene la información solicitada.\",)\n",
        "    raise e\n",
        "\n",
        "# Caso 7: la lista es estrictamente correcta\n",
        "try:\n",
        "    assert mayores(hermanos_test)[0] == 46\n",
        "    assert mayores(hermanos_test)[1] == 43\n",
        "except AssertionError as e:\n",
        "    e.args += (\"Tu respuesta tiene un orden incorrecto.\",)\n",
        "    raise e\n",
        "\n",
        "# Caso 8: retorna un numero distinto del esperado\n",
        "assert mayores(hermanos) == (47, 45), \"Tu respuesta es incorrecta.\"\n",
        "\n",
        "# Mensaje de felicitaciones\n",
        "print(\"Felicidades, realizaste este ejercicio correctamente.\")"
      ]
    },
    {
      "cell_type": "markdown",
      "metadata": {
        "deletable": false,
        "editable": false,
        "id": "DIdHln4Om9fY",
        "nbgrader": {
          "cell_type": "markdown",
          "checksum": "8243348417ce54da17a91f67a159444b",
          "grade": false,
          "grade_id": "ej345-enun",
          "locked": true,
          "schema_version": 3,
          "solution": false,
          "task": false
        }
      },
      "source": [
        "## Salarios en latinoamérica\n",
        "\n",
        "A continuación, encuentras declarado un `DataFrame` que contiene la edad, la ciudad de residencia y el salario (en USD) de nombres de algunos empleados de una multinacional. Utiliza esta información para dar respuesta a los ejercicios 3, 4 y 5."
      ]
    },
    {
      "cell_type": "code",
      "execution_count": null,
      "metadata": {
        "deletable": false,
        "editable": false,
        "id": "ef_EHM8im9fY",
        "nbgrader": {
          "cell_type": "code",
          "checksum": "17a70d4b73a5b5c3afbaeaa355178cce",
          "grade": false,
          "grade_id": "ej345-data",
          "locked": true,
          "schema_version": 3,
          "solution": false,
          "task": false
        }
      },
      "outputs": [],
      "source": [
        "# Esta celda no es modificable.\n",
        "\n",
        "e1 = [ 28,\"Bogotá\", 2000]\n",
        "e2 = [ 37, \"Lima\", 3200 ]\n",
        "e3 = [ 23,\"Bogotá\", 1700]\n",
        "e4 = [ 25, \"Buenos Aires\", 1100 ]\n",
        "e5 = [ 43,\"Buenos Aires\", 3300]\n",
        "e6 = [ 58, \"Lima\", 5500 ]\n",
        "e7 = [ 32,\"Bogotá\", 2700]\n",
        "e8 = [ 35, \"Quito\", 2500 ]\n",
        "\n",
        "empleados = pd.DataFrame([e1,e2, e3, e4, e5, e6, e7, e8],\n",
        "                         index = [\"Carlos\", \"David\", \"Ana\", \"Maria\", \"Felipe\", \"Luisa\", \"Juan\", \"Camila\"],\n",
        "                         columns = [\"Edad\", \"Ciudad Residencia\", \"Salario (en USD)\"])\n",
        "empleados"
      ]
    },
    {
      "cell_type": "markdown",
      "metadata": {
        "deletable": false,
        "editable": false,
        "id": "_axwPXmqm9fY",
        "nbgrader": {
          "cell_type": "markdown",
          "checksum": "ce32cd2e86afaa5ec011ce42835a627b",
          "grade": false,
          "grade_id": "ej3-task",
          "locked": true,
          "schema_version": 3,
          "solution": false,
          "task": false
        }
      },
      "source": [
        "### Ejercicio 3\n",
        "\n",
        "Implementa una función llamada `ciudades` que reciba un `DataFrame` por parámetro y retorne el número de ciudades diferentes en las que residen los empleados de la multinacional.\n",
        "\n",
        "*Esta función debe retornar un `int`*."
      ]
    },
    {
      "cell_type": "code",
      "execution_count": 21,
      "metadata": {
        "deletable": false,
        "id": "RmaXitT7m9fY",
        "nbgrader": {
          "cell_type": "code",
          "checksum": "b08e8696791b2f86632f759a2a601052",
          "grade": false,
          "grade_id": "ej3-sol",
          "locked": false,
          "schema_version": 3,
          "solution": true,
          "task": false
        }
      },
      "outputs": [
        {
          "name": "stdout",
          "output_type": "stream",
          "text": [
            "Requirement already satisfied: pandas in c:\\users\\jdavi\\appdata\\local\\programs\\python\\python310\\lib\\site-packages (2.3.2)\n",
            "Requirement already satisfied: python-dateutil>=2.8.2 in c:\\users\\jdavi\\appdata\\roaming\\python\\python310\\site-packages (from pandas) (2.9.0.post0)\n",
            "Requirement already satisfied: tzdata>=2022.7 in c:\\users\\jdavi\\appdata\\local\\programs\\python\\python310\\lib\\site-packages (from pandas) (2025.2)\n",
            "Requirement already satisfied: numpy>=1.22.4 in c:\\users\\jdavi\\appdata\\local\\programs\\python\\python310\\lib\\site-packages (from pandas) (2.2.6)\n",
            "Requirement already satisfied: pytz>=2020.1 in c:\\users\\jdavi\\appdata\\local\\programs\\python\\python310\\lib\\site-packages (from pandas) (2025.2)\n",
            "Requirement already satisfied: six>=1.5 in c:\\users\\jdavi\\appdata\\roaming\\python\\python310\\site-packages (from python-dateutil>=2.8.2->pandas) (1.17.0)\n"
          ]
        },
        {
          "name": "stderr",
          "output_type": "stream",
          "text": [
            "\n",
            "[notice] A new release of pip is available: 23.0.1 -> 25.2\n",
            "[notice] To update, run: python.exe -m pip install --upgrade pip\n"
          ]
        }
      ],
      "source": [
        "# your code here\n",
        "\n",
        "!pip install pandas\n",
        "\n",
        "\n",
        "import pandas as pd\n",
        "e1 = [28,\"Bogotá\", 2000]\n",
        "e2 = [37,\"Lima\", 3200]\n",
        "e3 = [23,\"Bogotá\", 1700]\n",
        "e4 = [25,\"Buenos Aires\", 1100]\n",
        "e5 = [43,\"Buenos Aires\", 3300]\n",
        "e6 = [58,\"Lima\", 5500]\n",
        "e7 = [32,\"Bogotá\", 2700]\n",
        "e8 = [35,\"Quito\", 2500]\n",
        "\n",
        "\n",
        "empleados = pd.DataFrame(\n",
        "    [e1,e2,e3,e4,e5,e6,e7,e8],\n",
        "    index=[\"Carlos\", \"David\", \"Ana\", \"Maria\", \"Felipe\", \"Luisa\", \"Juan\", \"Camila\"],\n",
        "    columns=[\"Edad\", \"Ciudad Residencia\", \"Salario (en USD)\"]\n",
        ")\n",
        "\n",
        "\n",
        "def ciudades(df):\n",
        "    lista_ciudades = df[\"Ciudad Residencia\"]\n",
        "    distintas = set(lista_ciudades)\n",
        "    return len(distintas)\n",
        "\n",
        "\n",
        " \n",
        "\n"
      ]
    },
    {
      "cell_type": "code",
      "execution_count": 22,
      "metadata": {
        "deletable": false,
        "editable": false,
        "id": "iA3_f-clm9fZ",
        "nbgrader": {
          "cell_type": "code",
          "checksum": "39ebc1bc103ab8484e3c7ed7f12f9178",
          "grade": true,
          "grade_id": "ej3-test",
          "locked": true,
          "points": 1,
          "schema_version": 3,
          "solution": false,
          "task": false
        }
      },
      "outputs": [
        {
          "name": "stdout",
          "output_type": "stream",
          "text": [
            "Felicidades, realizaste este ejercicio correctamente.\n"
          ]
        }
      ],
      "source": [
        "## AUTO-CALIFICADOR\n",
        "\n",
        "# Test paremters\n",
        "e1 = [ 28,\"Quito\", 2000]\n",
        "e2 = [ 37, \"Lima\", 3200 ]\n",
        "e3 = [ 22,\"Bogotá\", 1700]\n",
        "e4 = [ 35, \"Santiago\", 1100]\n",
        "e5 = [ 41,\"Buenos Aires\", 3900]\n",
        "e6 = [ 58, \"Lima\", 5500]\n",
        "e7 = [ 22,\"Brasilia\", 2100]\n",
        "e8 = [ 35, \"Bogotá\", 2500]\n",
        "\n",
        "empleados_test = pd.DataFrame([e1,e2, e3, e4, e5, e6, e7, e8],\n",
        "                              index = [\"Carlos\", \"David\", \"Ana\", \"Maria\", \"Felipe\", \"Luisa\", \"Juan\", \"Camila\"],\n",
        "                              columns = [\"Edad\", \"Ciudad Residencia\", \"Salario (en USD)\"])\n",
        "\n",
        "# Caso 1: no existe la función.\n",
        "try:\n",
        "    ciudades\n",
        "    assert type(ciudades) == type(lambda:None)\n",
        "except:\n",
        "    raise NotImplementedError(\"No existe una función llamada ciudades.\")\n",
        "\n",
        "# Caso 2: la función es interrumpida por errores durante su ejecución.\n",
        "try:\n",
        "    ciudades(empleados)\n",
        "    ciudades(empleados_test)\n",
        "except:\n",
        "    raise RuntimeError(\"Tu función produce un error al ejecutarse.\")\n",
        "\n",
        "# Caso 3: no retorna un int\n",
        "assert type(ciudades(empleados_test)) == int, f\"Tu función debe retornar un objeto de tipo {int.__name__}.\"\n",
        "\n",
        "# Caso 4: respuesta explicita\n",
        "assert ciudades(empleados_test) != 4, \"Tu respuesta es incorrecta para una instancia diferente. Utiliza los parámetros.\"\n",
        "\n",
        "# Caso 5: Retorna el número de elementos de la columna 'Ciudad Residencia'\n",
        "assert ciudades(empleados_test) != 8, \"Tu respuesta es el número de elementos de la columna 'Ciudad Residencia'.\"\n",
        "\n",
        "# Caso 6: retorna un numero distinto del esperado\n",
        "assert ciudades(empleados_test) == 6, \"Tu respuesta es incorrecta.\"\n",
        "assert ciudades(empleados) == 4, \"Tu respuesta es incorrecta.\"\n",
        "\n",
        "# Mensaje de felicitaciones\n",
        "print(\"Felicidades, realizaste este ejercicio correctamente.\")"
      ]
    },
    {
      "cell_type": "markdown",
      "metadata": {
        "deletable": false,
        "editable": false,
        "id": "_H53p-pUm9fZ",
        "nbgrader": {
          "cell_type": "markdown",
          "checksum": "538092bb10d9cbbd07f598fea48add53",
          "grade": false,
          "grade_id": "ej4-task",
          "locked": true,
          "schema_version": 3,
          "solution": false,
          "task": false
        }
      },
      "source": [
        "### Ejercicio 4\n",
        "\n",
        "Implementa una función llamada `mayor_al_promedio` que reciba un `DataFrame` y un índice de este `DataFrame` por parámetro, y retorne `True` si el salario asociado a este índice es mayor al promedio o `False` de lo contrario.\n",
        "\n",
        "*Esta función debe retornar* `True` *o* `False` *.*"
      ]
    },
    {
      "cell_type": "code",
      "execution_count": null,
      "metadata": {
        "deletable": false,
        "id": "4VmYGwf4m9fZ",
        "nbgrader": {
          "cell_type": "code",
          "checksum": "ea3894dd9bfa35bc3e7b118e70d6731b",
          "grade": false,
          "grade_id": "ej4-sol",
          "locked": false,
          "schema_version": 3,
          "solution": true,
          "task": false
        }
      },
      "outputs": [],
      "source": [
        "# your code here\n",
        "def mayor_al_promedio(df, indice):\n",
        "    promedio = df[\"Salario (en USD)\"].mean()\n",
        "    salario = df.loc[indice, \"Salario (en USD)\"]\n",
        "    return bool(salario > promedio)\n"
      ]
    },
    {
      "cell_type": "code",
      "execution_count": 26,
      "metadata": {
        "deletable": false,
        "editable": false,
        "id": "pug1lr-2m9fZ",
        "nbgrader": {
          "cell_type": "code",
          "checksum": "183d4df291a964609dabe3c08252ae34",
          "grade": true,
          "grade_id": "ej4-test",
          "locked": true,
          "points": 1,
          "schema_version": 3,
          "solution": false,
          "task": false
        }
      },
      "outputs": [
        {
          "name": "stdout",
          "output_type": "stream",
          "text": [
            "Felicidades, realizaste este ejercicio correctamente.\n"
          ]
        }
      ],
      "source": [
        "## AUTO-CALIFICADOR\n",
        "\n",
        "# Test paremters\n",
        "e1 = [ 28,\"Quito\", 2000]\n",
        "e2 = [ 37, \"Lima\", 3200 ]\n",
        "e3 = [ 22,\"Bogotá\", 1700]\n",
        "e4 = [ 35, \"Santiago\", 1100 ]\n",
        "e5 = [ 41,\"Buenos Aires\", 3900]\n",
        "e6 = [ 58, \"Lima\", 5500 ]\n",
        "e7 = [ 22,\"Brasilia\", 2100]\n",
        "e8 = [ 35, \"Bogotá\", 2500 ]\n",
        "\n",
        "empleados_test = pd.DataFrame([e1,e2, e3, e4, e5, e6, e7, e8],\n",
        "                              index=[\"Carlos\", \"David\", \"Ana\", \"Maria\", \"Felipe\", \"Luisa\", \"Juan\", \"Camila\"],\n",
        "                              columns=[\"Edad\", \"Ciudad Residencia\", \"Salario (en USD)\"])\n",
        "\n",
        "# Caso 1: no existe la función.\n",
        "try:\n",
        "    mayor_al_promedio\n",
        "    assert type(mayor_al_promedio) == type(lambda:None)\n",
        "except:\n",
        "    raise NotImplementedError(\"No existe una función llamada mayor_al_promedio.\")\n",
        "\n",
        "# Caso 2: la función es interrumpida por errores durante su ejecución.\n",
        "try:\n",
        "    mayor_al_promedio(empleados, 'Juan')\n",
        "    mayor_al_promedio(empleados_test, 'Luisa')\n",
        "except:\n",
        "    raise RuntimeError(\"Tu función produce un error al ejecutarse.\")\n",
        "\n",
        "# Caso 3: no retorna un boolean\n",
        "assert type(mayor_al_promedio(empleados_test, 'Luisa')) == type(True), f\"Tu función debe retornar un objeto de tipo {type(True).__name__}.\"\n",
        "\n",
        "# Caso 4: procedimiento incorrecto\n",
        "assert mayor_al_promedio(empleados_test, 'Luisa') != False, \"Tu respuesta es incorrecta para una instancia diferente. Utiliza los parámetros.\"\n",
        "\n",
        "# Caso 5: retorna un numero distinto del esperado\n",
        "assert mayor_al_promedio(empleados_test, 'Luisa') == True, \"Tu respuesta es incorrecta.\"\n",
        "assert mayor_al_promedio(empleados, 'Juan') == False, \"Tu respuesta es incorrecta.\"\n",
        "\n",
        "# Mensaje de felicitaciones\n",
        "print(\"Felicidades, realizaste este ejercicio correctamente.\")"
      ]
    },
    {
      "cell_type": "markdown",
      "metadata": {
        "deletable": false,
        "editable": false,
        "id": "9HBH1z2Zm9fZ",
        "nbgrader": {
          "cell_type": "markdown",
          "checksum": "c0b8443d552bb99e6b182c0d63d2d243",
          "grade": false,
          "grade_id": "ej5-task",
          "locked": true,
          "schema_version": 3,
          "solution": false,
          "task": false
        }
      },
      "source": [
        "### Ejercicio 5\n",
        "\n",
        "Implementa una función llamada `modificar` que reciba un `DataFrame` por parámetro, elimine la segunda fila, cambie el nombre de la columna 'Salario (en USD)' a 'Sueldo (en USD)' y retorne un nuevo `DataFrame` con las modificaciones realizadas.\n",
        "\n",
        "*Esta función debe retornar un* `DataFrame` *.*"
      ]
    },
    {
      "cell_type": "code",
      "execution_count": null,
      "metadata": {
        "deletable": false,
        "id": "hiCkaXzdm9fZ",
        "nbgrader": {
          "cell_type": "code",
          "checksum": "3b0f8e6e36fbaec3299ccf911aa2d45e",
          "grade": false,
          "grade_id": "ej5-sol",
          "locked": false,
          "schema_version": 3,
          "solution": true,
          "task": false
        }
      },
      "outputs": [],
      "source": [
        "# your code here\n",
        "def modificar(df):\n",
        "    nuevo_df = df.drop(df.index[1])\n",
        "    nuevo_df = nuevo_df.rename(columns={\"Salario (en USD)\": \"Sueldo (en USD)\"})\n",
        "    return nuevo_df\n"
      ]
    },
    {
      "cell_type": "code",
      "execution_count": 28,
      "metadata": {
        "deletable": false,
        "editable": false,
        "id": "57dfIKFDm9fZ",
        "nbgrader": {
          "cell_type": "code",
          "checksum": "1dcacd099edabd8d8242edb13539aaf3",
          "grade": true,
          "grade_id": "ej5-test",
          "locked": true,
          "points": 1,
          "schema_version": 3,
          "solution": false,
          "task": false
        }
      },
      "outputs": [
        {
          "name": "stdout",
          "output_type": "stream",
          "text": [
            "Felicidades, realizaste este ejercicio correctamente.\n"
          ]
        }
      ],
      "source": [
        "## AUTO-CALIFICADOR\n",
        "\n",
        "# Test paremters\n",
        "e1 = [ 28,\"Quito\", 2000]\n",
        "e2 = [ 37, \"Lima\", 3200 ]\n",
        "e3 = [ 22,\"Bogotá\", 1700]\n",
        "e4 = [ 35, \"Santiago\", 1100 ]\n",
        "e5 = [ 41,\"Buenos Aires\", 3900]\n",
        "e6 = [ 58, \"Lima\", 5500 ]\n",
        "e7 = [ 22,\"Brasilia\", 2100]\n",
        "e8 = [ 35, \"Bogotá\", 2500 ]\n",
        "\n",
        "empleados_test = pd.DataFrame([e1,e2, e3, e4, e5, e6, e7, e8],\n",
        "                              index=[\"Carlos\", \"Diego\", \"Ariel\", \"Maria\", \"Felipe\", \"Luisa\", \"Juan\", \"Camila\"],\n",
        "                              columns=[\"Edad\", \"Ciudad Residencia\", \"Salario (en USD)\"])\n",
        "\n",
        "# Caso 1: no existe la función.\n",
        "try:\n",
        "    modificar\n",
        "    assert type(modificar) == type(lambda:None)\n",
        "except:\n",
        "    raise NotImplementedError(\"No existe una función llamada modificar.\",)\n",
        "\n",
        "# Caso 2: la función es interrumpida por errores durante su ejecución.\n",
        "try:\n",
        "    modificar(empleados)\n",
        "    modificar(empleados_test)\n",
        "except:\n",
        "    raise RuntimeError(\"Tu función produce un error al ejecutarse.\")\n",
        "\n",
        "# Caso 3: no retorna un dataframe\n",
        "assert type(modificar(empleados_test)) == type(empleados_test), f\"Tu función debe retornar un objeto de tipo {type(empleados_test).__name__}.\"\n",
        "\n",
        "# Caso 4: Cambio de nombre correcto\n",
        "assert modificar(empleados_test).columns[2] == 'Sueldo (en USD)', \"Tu respuesta es incorrecta. Recuerda modificar el nombre de la columna 'Salario (en USD)'\"\n",
        "\n",
        "# Caso 5: Elimino la fila\n",
        "modificar(empleados_test).index[[1]] == 'Ariel', \"Tu respuesta es incorrecta. Recuerda eliminar la segunda fila del DataFrame.\"\n",
        "\n",
        "# Caso 6: los cambios son estrictamente correctos\n",
        "try:\n",
        "    assert modificar(empleados).columns[2] == 'Sueldo (en USD)'\n",
        "    assert modificar(empleados).index[[1]] == 'Ana'\n",
        "except AssertionError as e:\n",
        "    e.args += (\"Tu respuesta es incorrecta.\",)\n",
        "    raise e\n",
        "\n",
        "# Mensaje de felicitaciones\n",
        "print(\"Felicidades, realizaste este ejercicio correctamente.\")"
      ]
    },
    {
      "cell_type": "markdown",
      "metadata": {
        "deletable": false,
        "editable": false,
        "id": "MD_33N61m9fZ",
        "nbgrader": {
          "cell_type": "markdown",
          "checksum": "4e5199e32f9cd50109e61458c5af60fd",
          "grade": false,
          "grade_id": "ej678-enun",
          "locked": true,
          "schema_version": 3,
          "solution": false,
          "task": false
        }
      },
      "source": [
        "## Lista de países\n",
        "\n",
        "A continuación encuentras un `DataFrame` con un listado de países con su respectivo nombre en inglés y en español."
      ]
    },
    {
      "cell_type": "code",
      "execution_count": null,
      "metadata": {
        "deletable": false,
        "editable": false,
        "id": "aRMSqU5Zm9fZ",
        "nbgrader": {
          "cell_type": "code",
          "checksum": "b9c985669218cd94f3f3cc2602031c12",
          "grade": false,
          "grade_id": "ej678-data",
          "locked": true,
          "schema_version": 3,
          "solution": false,
          "task": false
        }
      },
      "outputs": [],
      "source": [
        "# Esta celda no es modificable.\n",
        "\n",
        "paises = pd.read_csv(\"./Archivos/DiccionarioPaises.csv\", encoding = \"UTF-8\", delimiter = \";\")\n",
        "paises.head()"
      ]
    },
    {
      "cell_type": "markdown",
      "metadata": {
        "deletable": false,
        "editable": false,
        "id": "hal6MgUym9fa",
        "nbgrader": {
          "cell_type": "markdown",
          "checksum": "8e76a28269b4e60b11249b19bc695a4f",
          "grade": false,
          "grade_id": "ej6-task",
          "locked": true,
          "schema_version": 3,
          "solution": false,
          "task": false
        }
      },
      "source": [
        "### Ejercicio 6\n",
        "\n",
        "Implementa una función llamada `dif_longitud` que reciba un `DataFrame` por parámetro, elimine los países cuya traducción cambie en longitud  y retorne un `DataFrame` con las modificaciones realizadas.\n",
        "\n",
        "*Esta función debe retornar un* `DataFrame` *.*"
      ]
    },
    {
      "cell_type": "code",
      "execution_count": null,
      "metadata": {
        "deletable": false,
        "id": "7_uXz6Dmm9fa",
        "nbgrader": {
          "cell_type": "code",
          "checksum": "d3b290b73c7cc0af92abfa9002c9c667",
          "grade": false,
          "grade_id": "ej6-sol",
          "locked": false,
          "schema_version": 3,
          "solution": true,
          "task": false
        }
      },
      "outputs": [
        {
          "name": "stdout",
          "output_type": "stream",
          "text": [
            "Carpeta actual: d:\\documentos\\GitHub\\ELECTIVA-PROFESIONAL-III\\Semana3\\Taller libreria para menejo de datos\n"
          ]
        },
        {
          "ename": "FileNotFoundError",
          "evalue": "[Errno 2] No such file or directory: 'C:/Users/jdavi/Tutorial/Archivos/DiccionarioPaises.csv'",
          "output_type": "error",
          "traceback": [
            "\u001b[1;31m---------------------------------------------------------------------------\u001b[0m",
            "\u001b[1;31mFileNotFoundError\u001b[0m                         Traceback (most recent call last)",
            "Cell \u001b[1;32mIn[34], line 9\u001b[0m\n\u001b[0;32m      6\u001b[0m \u001b[38;5;28mprint\u001b[39m(\u001b[38;5;124m\"\u001b[39m\u001b[38;5;124mCarpeta actual:\u001b[39m\u001b[38;5;124m\"\u001b[39m, os\u001b[38;5;241m.\u001b[39mgetcwd())\n\u001b[0;32m      8\u001b[0m \u001b[38;5;66;03m# cargar el archivo con ruta absoluta o relativa correcta\u001b[39;00m\n\u001b[1;32m----> 9\u001b[0m paises \u001b[38;5;241m=\u001b[39m \u001b[43mpd\u001b[49m\u001b[38;5;241;43m.\u001b[39;49m\u001b[43mread_csv\u001b[49m\u001b[43m(\u001b[49m\u001b[38;5;124;43mr\u001b[39;49m\u001b[38;5;124;43m\"\u001b[39;49m\u001b[38;5;124;43mC:/Users/jdavi/Tutorial/Archivos/DiccionarioPaises.csv\u001b[39;49m\u001b[38;5;124;43m\"\u001b[39;49m\u001b[43m,\u001b[49m\u001b[43m \u001b[49m\u001b[43mencoding\u001b[49m\u001b[38;5;241;43m=\u001b[39;49m\u001b[38;5;124;43m\"\u001b[39;49m\u001b[38;5;124;43mUTF-8\u001b[39;49m\u001b[38;5;124;43m\"\u001b[39;49m\u001b[43m,\u001b[49m\u001b[43m \u001b[49m\u001b[43mdelimiter\u001b[49m\u001b[38;5;241;43m=\u001b[39;49m\u001b[38;5;124;43m\"\u001b[39;49m\u001b[38;5;124;43m;\u001b[39;49m\u001b[38;5;124;43m\"\u001b[39;49m\u001b[43m)\u001b[49m\n\u001b[0;32m     11\u001b[0m \u001b[38;5;66;03m# función\u001b[39;00m\n\u001b[0;32m     12\u001b[0m \u001b[38;5;28;01mdef\u001b[39;00m\u001b[38;5;250m \u001b[39m\u001b[38;5;21mdif_longitud\u001b[39m(df):\n",
            "File \u001b[1;32mc:\\Users\\jdavi\\AppData\\Local\\Programs\\Python\\Python310\\lib\\site-packages\\pandas\\io\\parsers\\readers.py:1026\u001b[0m, in \u001b[0;36mread_csv\u001b[1;34m(filepath_or_buffer, sep, delimiter, header, names, index_col, usecols, dtype, engine, converters, true_values, false_values, skipinitialspace, skiprows, skipfooter, nrows, na_values, keep_default_na, na_filter, verbose, skip_blank_lines, parse_dates, infer_datetime_format, keep_date_col, date_parser, date_format, dayfirst, cache_dates, iterator, chunksize, compression, thousands, decimal, lineterminator, quotechar, quoting, doublequote, escapechar, comment, encoding, encoding_errors, dialect, on_bad_lines, delim_whitespace, low_memory, memory_map, float_precision, storage_options, dtype_backend)\u001b[0m\n\u001b[0;32m   1013\u001b[0m kwds_defaults \u001b[38;5;241m=\u001b[39m _refine_defaults_read(\n\u001b[0;32m   1014\u001b[0m     dialect,\n\u001b[0;32m   1015\u001b[0m     delimiter,\n\u001b[1;32m   (...)\u001b[0m\n\u001b[0;32m   1022\u001b[0m     dtype_backend\u001b[38;5;241m=\u001b[39mdtype_backend,\n\u001b[0;32m   1023\u001b[0m )\n\u001b[0;32m   1024\u001b[0m kwds\u001b[38;5;241m.\u001b[39mupdate(kwds_defaults)\n\u001b[1;32m-> 1026\u001b[0m \u001b[38;5;28;01mreturn\u001b[39;00m \u001b[43m_read\u001b[49m\u001b[43m(\u001b[49m\u001b[43mfilepath_or_buffer\u001b[49m\u001b[43m,\u001b[49m\u001b[43m \u001b[49m\u001b[43mkwds\u001b[49m\u001b[43m)\u001b[49m\n",
            "File \u001b[1;32mc:\\Users\\jdavi\\AppData\\Local\\Programs\\Python\\Python310\\lib\\site-packages\\pandas\\io\\parsers\\readers.py:620\u001b[0m, in \u001b[0;36m_read\u001b[1;34m(filepath_or_buffer, kwds)\u001b[0m\n\u001b[0;32m    617\u001b[0m _validate_names(kwds\u001b[38;5;241m.\u001b[39mget(\u001b[38;5;124m\"\u001b[39m\u001b[38;5;124mnames\u001b[39m\u001b[38;5;124m\"\u001b[39m, \u001b[38;5;28;01mNone\u001b[39;00m))\n\u001b[0;32m    619\u001b[0m \u001b[38;5;66;03m# Create the parser.\u001b[39;00m\n\u001b[1;32m--> 620\u001b[0m parser \u001b[38;5;241m=\u001b[39m TextFileReader(filepath_or_buffer, \u001b[38;5;241m*\u001b[39m\u001b[38;5;241m*\u001b[39mkwds)\n\u001b[0;32m    622\u001b[0m \u001b[38;5;28;01mif\u001b[39;00m chunksize \u001b[38;5;129;01mor\u001b[39;00m iterator:\n\u001b[0;32m    623\u001b[0m     \u001b[38;5;28;01mreturn\u001b[39;00m parser\n",
            "File \u001b[1;32mc:\\Users\\jdavi\\AppData\\Local\\Programs\\Python\\Python310\\lib\\site-packages\\pandas\\io\\parsers\\readers.py:1620\u001b[0m, in \u001b[0;36mTextFileReader.__init__\u001b[1;34m(self, f, engine, **kwds)\u001b[0m\n\u001b[0;32m   1617\u001b[0m     \u001b[38;5;28mself\u001b[39m\u001b[38;5;241m.\u001b[39moptions[\u001b[38;5;124m\"\u001b[39m\u001b[38;5;124mhas_index_names\u001b[39m\u001b[38;5;124m\"\u001b[39m] \u001b[38;5;241m=\u001b[39m kwds[\u001b[38;5;124m\"\u001b[39m\u001b[38;5;124mhas_index_names\u001b[39m\u001b[38;5;124m\"\u001b[39m]\n\u001b[0;32m   1619\u001b[0m \u001b[38;5;28mself\u001b[39m\u001b[38;5;241m.\u001b[39mhandles: IOHandles \u001b[38;5;241m|\u001b[39m \u001b[38;5;28;01mNone\u001b[39;00m \u001b[38;5;241m=\u001b[39m \u001b[38;5;28;01mNone\u001b[39;00m\n\u001b[1;32m-> 1620\u001b[0m \u001b[38;5;28mself\u001b[39m\u001b[38;5;241m.\u001b[39m_engine \u001b[38;5;241m=\u001b[39m \u001b[38;5;28;43mself\u001b[39;49m\u001b[38;5;241;43m.\u001b[39;49m\u001b[43m_make_engine\u001b[49m\u001b[43m(\u001b[49m\u001b[43mf\u001b[49m\u001b[43m,\u001b[49m\u001b[43m \u001b[49m\u001b[38;5;28;43mself\u001b[39;49m\u001b[38;5;241;43m.\u001b[39;49m\u001b[43mengine\u001b[49m\u001b[43m)\u001b[49m\n",
            "File \u001b[1;32mc:\\Users\\jdavi\\AppData\\Local\\Programs\\Python\\Python310\\lib\\site-packages\\pandas\\io\\parsers\\readers.py:1880\u001b[0m, in \u001b[0;36mTextFileReader._make_engine\u001b[1;34m(self, f, engine)\u001b[0m\n\u001b[0;32m   1878\u001b[0m     \u001b[38;5;28;01mif\u001b[39;00m \u001b[38;5;124m\"\u001b[39m\u001b[38;5;124mb\u001b[39m\u001b[38;5;124m\"\u001b[39m \u001b[38;5;129;01mnot\u001b[39;00m \u001b[38;5;129;01min\u001b[39;00m mode:\n\u001b[0;32m   1879\u001b[0m         mode \u001b[38;5;241m+\u001b[39m\u001b[38;5;241m=\u001b[39m \u001b[38;5;124m\"\u001b[39m\u001b[38;5;124mb\u001b[39m\u001b[38;5;124m\"\u001b[39m\n\u001b[1;32m-> 1880\u001b[0m \u001b[38;5;28mself\u001b[39m\u001b[38;5;241m.\u001b[39mhandles \u001b[38;5;241m=\u001b[39m \u001b[43mget_handle\u001b[49m\u001b[43m(\u001b[49m\n\u001b[0;32m   1881\u001b[0m \u001b[43m    \u001b[49m\u001b[43mf\u001b[49m\u001b[43m,\u001b[49m\n\u001b[0;32m   1882\u001b[0m \u001b[43m    \u001b[49m\u001b[43mmode\u001b[49m\u001b[43m,\u001b[49m\n\u001b[0;32m   1883\u001b[0m \u001b[43m    \u001b[49m\u001b[43mencoding\u001b[49m\u001b[38;5;241;43m=\u001b[39;49m\u001b[38;5;28;43mself\u001b[39;49m\u001b[38;5;241;43m.\u001b[39;49m\u001b[43moptions\u001b[49m\u001b[38;5;241;43m.\u001b[39;49m\u001b[43mget\u001b[49m\u001b[43m(\u001b[49m\u001b[38;5;124;43m\"\u001b[39;49m\u001b[38;5;124;43mencoding\u001b[39;49m\u001b[38;5;124;43m\"\u001b[39;49m\u001b[43m,\u001b[49m\u001b[43m \u001b[49m\u001b[38;5;28;43;01mNone\u001b[39;49;00m\u001b[43m)\u001b[49m\u001b[43m,\u001b[49m\n\u001b[0;32m   1884\u001b[0m \u001b[43m    \u001b[49m\u001b[43mcompression\u001b[49m\u001b[38;5;241;43m=\u001b[39;49m\u001b[38;5;28;43mself\u001b[39;49m\u001b[38;5;241;43m.\u001b[39;49m\u001b[43moptions\u001b[49m\u001b[38;5;241;43m.\u001b[39;49m\u001b[43mget\u001b[49m\u001b[43m(\u001b[49m\u001b[38;5;124;43m\"\u001b[39;49m\u001b[38;5;124;43mcompression\u001b[39;49m\u001b[38;5;124;43m\"\u001b[39;49m\u001b[43m,\u001b[49m\u001b[43m \u001b[49m\u001b[38;5;28;43;01mNone\u001b[39;49;00m\u001b[43m)\u001b[49m\u001b[43m,\u001b[49m\n\u001b[0;32m   1885\u001b[0m \u001b[43m    \u001b[49m\u001b[43mmemory_map\u001b[49m\u001b[38;5;241;43m=\u001b[39;49m\u001b[38;5;28;43mself\u001b[39;49m\u001b[38;5;241;43m.\u001b[39;49m\u001b[43moptions\u001b[49m\u001b[38;5;241;43m.\u001b[39;49m\u001b[43mget\u001b[49m\u001b[43m(\u001b[49m\u001b[38;5;124;43m\"\u001b[39;49m\u001b[38;5;124;43mmemory_map\u001b[39;49m\u001b[38;5;124;43m\"\u001b[39;49m\u001b[43m,\u001b[49m\u001b[43m \u001b[49m\u001b[38;5;28;43;01mFalse\u001b[39;49;00m\u001b[43m)\u001b[49m\u001b[43m,\u001b[49m\n\u001b[0;32m   1886\u001b[0m \u001b[43m    \u001b[49m\u001b[43mis_text\u001b[49m\u001b[38;5;241;43m=\u001b[39;49m\u001b[43mis_text\u001b[49m\u001b[43m,\u001b[49m\n\u001b[0;32m   1887\u001b[0m \u001b[43m    \u001b[49m\u001b[43merrors\u001b[49m\u001b[38;5;241;43m=\u001b[39;49m\u001b[38;5;28;43mself\u001b[39;49m\u001b[38;5;241;43m.\u001b[39;49m\u001b[43moptions\u001b[49m\u001b[38;5;241;43m.\u001b[39;49m\u001b[43mget\u001b[49m\u001b[43m(\u001b[49m\u001b[38;5;124;43m\"\u001b[39;49m\u001b[38;5;124;43mencoding_errors\u001b[39;49m\u001b[38;5;124;43m\"\u001b[39;49m\u001b[43m,\u001b[49m\u001b[43m \u001b[49m\u001b[38;5;124;43m\"\u001b[39;49m\u001b[38;5;124;43mstrict\u001b[39;49m\u001b[38;5;124;43m\"\u001b[39;49m\u001b[43m)\u001b[49m\u001b[43m,\u001b[49m\n\u001b[0;32m   1888\u001b[0m \u001b[43m    \u001b[49m\u001b[43mstorage_options\u001b[49m\u001b[38;5;241;43m=\u001b[39;49m\u001b[38;5;28;43mself\u001b[39;49m\u001b[38;5;241;43m.\u001b[39;49m\u001b[43moptions\u001b[49m\u001b[38;5;241;43m.\u001b[39;49m\u001b[43mget\u001b[49m\u001b[43m(\u001b[49m\u001b[38;5;124;43m\"\u001b[39;49m\u001b[38;5;124;43mstorage_options\u001b[39;49m\u001b[38;5;124;43m\"\u001b[39;49m\u001b[43m,\u001b[49m\u001b[43m \u001b[49m\u001b[38;5;28;43;01mNone\u001b[39;49;00m\u001b[43m)\u001b[49m\u001b[43m,\u001b[49m\n\u001b[0;32m   1889\u001b[0m \u001b[43m\u001b[49m\u001b[43m)\u001b[49m\n\u001b[0;32m   1890\u001b[0m \u001b[38;5;28;01massert\u001b[39;00m \u001b[38;5;28mself\u001b[39m\u001b[38;5;241m.\u001b[39mhandles \u001b[38;5;129;01mis\u001b[39;00m \u001b[38;5;129;01mnot\u001b[39;00m \u001b[38;5;28;01mNone\u001b[39;00m\n\u001b[0;32m   1891\u001b[0m f \u001b[38;5;241m=\u001b[39m \u001b[38;5;28mself\u001b[39m\u001b[38;5;241m.\u001b[39mhandles\u001b[38;5;241m.\u001b[39mhandle\n",
            "File \u001b[1;32mc:\\Users\\jdavi\\AppData\\Local\\Programs\\Python\\Python310\\lib\\site-packages\\pandas\\io\\common.py:873\u001b[0m, in \u001b[0;36mget_handle\u001b[1;34m(path_or_buf, mode, encoding, compression, memory_map, is_text, errors, storage_options)\u001b[0m\n\u001b[0;32m    868\u001b[0m \u001b[38;5;28;01melif\u001b[39;00m \u001b[38;5;28misinstance\u001b[39m(handle, \u001b[38;5;28mstr\u001b[39m):\n\u001b[0;32m    869\u001b[0m     \u001b[38;5;66;03m# Check whether the filename is to be opened in binary mode.\u001b[39;00m\n\u001b[0;32m    870\u001b[0m     \u001b[38;5;66;03m# Binary mode does not support 'encoding' and 'newline'.\u001b[39;00m\n\u001b[0;32m    871\u001b[0m     \u001b[38;5;28;01mif\u001b[39;00m ioargs\u001b[38;5;241m.\u001b[39mencoding \u001b[38;5;129;01mand\u001b[39;00m \u001b[38;5;124m\"\u001b[39m\u001b[38;5;124mb\u001b[39m\u001b[38;5;124m\"\u001b[39m \u001b[38;5;129;01mnot\u001b[39;00m \u001b[38;5;129;01min\u001b[39;00m ioargs\u001b[38;5;241m.\u001b[39mmode:\n\u001b[0;32m    872\u001b[0m         \u001b[38;5;66;03m# Encoding\u001b[39;00m\n\u001b[1;32m--> 873\u001b[0m         handle \u001b[38;5;241m=\u001b[39m \u001b[38;5;28;43mopen\u001b[39;49m\u001b[43m(\u001b[49m\n\u001b[0;32m    874\u001b[0m \u001b[43m            \u001b[49m\u001b[43mhandle\u001b[49m\u001b[43m,\u001b[49m\n\u001b[0;32m    875\u001b[0m \u001b[43m            \u001b[49m\u001b[43mioargs\u001b[49m\u001b[38;5;241;43m.\u001b[39;49m\u001b[43mmode\u001b[49m\u001b[43m,\u001b[49m\n\u001b[0;32m    876\u001b[0m \u001b[43m            \u001b[49m\u001b[43mencoding\u001b[49m\u001b[38;5;241;43m=\u001b[39;49m\u001b[43mioargs\u001b[49m\u001b[38;5;241;43m.\u001b[39;49m\u001b[43mencoding\u001b[49m\u001b[43m,\u001b[49m\n\u001b[0;32m    877\u001b[0m \u001b[43m            \u001b[49m\u001b[43merrors\u001b[49m\u001b[38;5;241;43m=\u001b[39;49m\u001b[43merrors\u001b[49m\u001b[43m,\u001b[49m\n\u001b[0;32m    878\u001b[0m \u001b[43m            \u001b[49m\u001b[43mnewline\u001b[49m\u001b[38;5;241;43m=\u001b[39;49m\u001b[38;5;124;43m\"\u001b[39;49m\u001b[38;5;124;43m\"\u001b[39;49m\u001b[43m,\u001b[49m\n\u001b[0;32m    879\u001b[0m \u001b[43m        \u001b[49m\u001b[43m)\u001b[49m\n\u001b[0;32m    880\u001b[0m     \u001b[38;5;28;01melse\u001b[39;00m:\n\u001b[0;32m    881\u001b[0m         \u001b[38;5;66;03m# Binary mode\u001b[39;00m\n\u001b[0;32m    882\u001b[0m         handle \u001b[38;5;241m=\u001b[39m \u001b[38;5;28mopen\u001b[39m(handle, ioargs\u001b[38;5;241m.\u001b[39mmode)\n",
            "\u001b[1;31mFileNotFoundError\u001b[0m: [Errno 2] No such file or directory: 'C:/Users/jdavi/Tutorial/Archivos/DiccionarioPaises.csv'"
          ]
        }
      ],
      "source": [
        "# your code here\n",
        "import pandas as pd\n",
        "import os\n",
        "print(\"Carpeta actual:\", os.getcwd())\n",
        "paises = pd.read_csv(r\"C:/Users/jdavi/Tutorial/Archivos/DiccionarioPaises.csv\", encoding=\"UTF-8\", delimiter=\";\")\n",
        "def dif_longitud(df):\n",
        "    return df[df[\"País en inglés\"].str.len() == df[\"País en español\"].str.len()]\n",
        "print(paises.head())\n",
        "print(dif_longitud(paises).head())\n",
        "\n",
        "\n"
      ]
    },
    {
      "cell_type": "code",
      "execution_count": 30,
      "metadata": {
        "deletable": false,
        "editable": false,
        "id": "ICMlEXXCm9fa",
        "nbgrader": {
          "cell_type": "code",
          "checksum": "73cf26de81943414ff1691e8d2f052d0",
          "grade": true,
          "grade_id": "ej6-test",
          "locked": true,
          "points": 1,
          "schema_version": 3,
          "solution": false,
          "task": false
        }
      },
      "outputs": [
        {
          "ename": "FileNotFoundError",
          "evalue": "[Errno 2] No such file or directory: './Archivos/DiccionarioPaises.csv'",
          "output_type": "error",
          "traceback": [
            "\u001b[1;31m---------------------------------------------------------------------------\u001b[0m",
            "\u001b[1;31mFileNotFoundError\u001b[0m                         Traceback (most recent call last)",
            "Cell \u001b[1;32mIn[30], line 4\u001b[0m\n\u001b[0;32m      1\u001b[0m \u001b[38;5;66;03m## AUTO-CALIFICADOR\u001b[39;00m\n\u001b[0;32m      2\u001b[0m \n\u001b[0;32m      3\u001b[0m \u001b[38;5;66;03m# Base variables\u001b[39;00m\n\u001b[1;32m----> 4\u001b[0m paises \u001b[38;5;241m=\u001b[39m \u001b[43mpd\u001b[49m\u001b[38;5;241;43m.\u001b[39;49m\u001b[43mread_csv\u001b[49m\u001b[43m(\u001b[49m\u001b[38;5;124;43m\"\u001b[39;49m\u001b[38;5;124;43m./Archivos/DiccionarioPaises.csv\u001b[39;49m\u001b[38;5;124;43m\"\u001b[39;49m\u001b[43m,\u001b[49m\u001b[43m \u001b[49m\u001b[43mencoding\u001b[49m\u001b[43m \u001b[49m\u001b[38;5;241;43m=\u001b[39;49m\u001b[43m \u001b[49m\u001b[38;5;124;43m\"\u001b[39;49m\u001b[38;5;124;43mUTF-8\u001b[39;49m\u001b[38;5;124;43m\"\u001b[39;49m\u001b[43m,\u001b[49m\u001b[43m \u001b[49m\u001b[43mdelimiter\u001b[49m\u001b[43m \u001b[49m\u001b[38;5;241;43m=\u001b[39;49m\u001b[43m \u001b[49m\u001b[38;5;124;43m\"\u001b[39;49m\u001b[38;5;124;43m;\u001b[39;49m\u001b[38;5;124;43m\"\u001b[39;49m\u001b[43m)\u001b[49m\n\u001b[0;32m      5\u001b[0m nombre_columnas \u001b[38;5;241m=\u001b[39m [\u001b[38;5;124m'\u001b[39m\u001b[38;5;124mPaís en español\u001b[39m\u001b[38;5;124m'\u001b[39m, \u001b[38;5;124m'\u001b[39m\u001b[38;5;124mPaís en inglés\u001b[39m\u001b[38;5;124m'\u001b[39m]\n\u001b[0;32m      7\u001b[0m \u001b[38;5;66;03m# Caso 1: no existe la función.\u001b[39;00m\n",
            "File \u001b[1;32mc:\\Users\\jdavi\\AppData\\Local\\Programs\\Python\\Python310\\lib\\site-packages\\pandas\\io\\parsers\\readers.py:1026\u001b[0m, in \u001b[0;36mread_csv\u001b[1;34m(filepath_or_buffer, sep, delimiter, header, names, index_col, usecols, dtype, engine, converters, true_values, false_values, skipinitialspace, skiprows, skipfooter, nrows, na_values, keep_default_na, na_filter, verbose, skip_blank_lines, parse_dates, infer_datetime_format, keep_date_col, date_parser, date_format, dayfirst, cache_dates, iterator, chunksize, compression, thousands, decimal, lineterminator, quotechar, quoting, doublequote, escapechar, comment, encoding, encoding_errors, dialect, on_bad_lines, delim_whitespace, low_memory, memory_map, float_precision, storage_options, dtype_backend)\u001b[0m\n\u001b[0;32m   1013\u001b[0m kwds_defaults \u001b[38;5;241m=\u001b[39m _refine_defaults_read(\n\u001b[0;32m   1014\u001b[0m     dialect,\n\u001b[0;32m   1015\u001b[0m     delimiter,\n\u001b[1;32m   (...)\u001b[0m\n\u001b[0;32m   1022\u001b[0m     dtype_backend\u001b[38;5;241m=\u001b[39mdtype_backend,\n\u001b[0;32m   1023\u001b[0m )\n\u001b[0;32m   1024\u001b[0m kwds\u001b[38;5;241m.\u001b[39mupdate(kwds_defaults)\n\u001b[1;32m-> 1026\u001b[0m \u001b[38;5;28;01mreturn\u001b[39;00m \u001b[43m_read\u001b[49m\u001b[43m(\u001b[49m\u001b[43mfilepath_or_buffer\u001b[49m\u001b[43m,\u001b[49m\u001b[43m \u001b[49m\u001b[43mkwds\u001b[49m\u001b[43m)\u001b[49m\n",
            "File \u001b[1;32mc:\\Users\\jdavi\\AppData\\Local\\Programs\\Python\\Python310\\lib\\site-packages\\pandas\\io\\parsers\\readers.py:620\u001b[0m, in \u001b[0;36m_read\u001b[1;34m(filepath_or_buffer, kwds)\u001b[0m\n\u001b[0;32m    617\u001b[0m _validate_names(kwds\u001b[38;5;241m.\u001b[39mget(\u001b[38;5;124m\"\u001b[39m\u001b[38;5;124mnames\u001b[39m\u001b[38;5;124m\"\u001b[39m, \u001b[38;5;28;01mNone\u001b[39;00m))\n\u001b[0;32m    619\u001b[0m \u001b[38;5;66;03m# Create the parser.\u001b[39;00m\n\u001b[1;32m--> 620\u001b[0m parser \u001b[38;5;241m=\u001b[39m TextFileReader(filepath_or_buffer, \u001b[38;5;241m*\u001b[39m\u001b[38;5;241m*\u001b[39mkwds)\n\u001b[0;32m    622\u001b[0m \u001b[38;5;28;01mif\u001b[39;00m chunksize \u001b[38;5;129;01mor\u001b[39;00m iterator:\n\u001b[0;32m    623\u001b[0m     \u001b[38;5;28;01mreturn\u001b[39;00m parser\n",
            "File \u001b[1;32mc:\\Users\\jdavi\\AppData\\Local\\Programs\\Python\\Python310\\lib\\site-packages\\pandas\\io\\parsers\\readers.py:1620\u001b[0m, in \u001b[0;36mTextFileReader.__init__\u001b[1;34m(self, f, engine, **kwds)\u001b[0m\n\u001b[0;32m   1617\u001b[0m     \u001b[38;5;28mself\u001b[39m\u001b[38;5;241m.\u001b[39moptions[\u001b[38;5;124m\"\u001b[39m\u001b[38;5;124mhas_index_names\u001b[39m\u001b[38;5;124m\"\u001b[39m] \u001b[38;5;241m=\u001b[39m kwds[\u001b[38;5;124m\"\u001b[39m\u001b[38;5;124mhas_index_names\u001b[39m\u001b[38;5;124m\"\u001b[39m]\n\u001b[0;32m   1619\u001b[0m \u001b[38;5;28mself\u001b[39m\u001b[38;5;241m.\u001b[39mhandles: IOHandles \u001b[38;5;241m|\u001b[39m \u001b[38;5;28;01mNone\u001b[39;00m \u001b[38;5;241m=\u001b[39m \u001b[38;5;28;01mNone\u001b[39;00m\n\u001b[1;32m-> 1620\u001b[0m \u001b[38;5;28mself\u001b[39m\u001b[38;5;241m.\u001b[39m_engine \u001b[38;5;241m=\u001b[39m \u001b[38;5;28;43mself\u001b[39;49m\u001b[38;5;241;43m.\u001b[39;49m\u001b[43m_make_engine\u001b[49m\u001b[43m(\u001b[49m\u001b[43mf\u001b[49m\u001b[43m,\u001b[49m\u001b[43m \u001b[49m\u001b[38;5;28;43mself\u001b[39;49m\u001b[38;5;241;43m.\u001b[39;49m\u001b[43mengine\u001b[49m\u001b[43m)\u001b[49m\n",
            "File \u001b[1;32mc:\\Users\\jdavi\\AppData\\Local\\Programs\\Python\\Python310\\lib\\site-packages\\pandas\\io\\parsers\\readers.py:1880\u001b[0m, in \u001b[0;36mTextFileReader._make_engine\u001b[1;34m(self, f, engine)\u001b[0m\n\u001b[0;32m   1878\u001b[0m     \u001b[38;5;28;01mif\u001b[39;00m \u001b[38;5;124m\"\u001b[39m\u001b[38;5;124mb\u001b[39m\u001b[38;5;124m\"\u001b[39m \u001b[38;5;129;01mnot\u001b[39;00m \u001b[38;5;129;01min\u001b[39;00m mode:\n\u001b[0;32m   1879\u001b[0m         mode \u001b[38;5;241m+\u001b[39m\u001b[38;5;241m=\u001b[39m \u001b[38;5;124m\"\u001b[39m\u001b[38;5;124mb\u001b[39m\u001b[38;5;124m\"\u001b[39m\n\u001b[1;32m-> 1880\u001b[0m \u001b[38;5;28mself\u001b[39m\u001b[38;5;241m.\u001b[39mhandles \u001b[38;5;241m=\u001b[39m \u001b[43mget_handle\u001b[49m\u001b[43m(\u001b[49m\n\u001b[0;32m   1881\u001b[0m \u001b[43m    \u001b[49m\u001b[43mf\u001b[49m\u001b[43m,\u001b[49m\n\u001b[0;32m   1882\u001b[0m \u001b[43m    \u001b[49m\u001b[43mmode\u001b[49m\u001b[43m,\u001b[49m\n\u001b[0;32m   1883\u001b[0m \u001b[43m    \u001b[49m\u001b[43mencoding\u001b[49m\u001b[38;5;241;43m=\u001b[39;49m\u001b[38;5;28;43mself\u001b[39;49m\u001b[38;5;241;43m.\u001b[39;49m\u001b[43moptions\u001b[49m\u001b[38;5;241;43m.\u001b[39;49m\u001b[43mget\u001b[49m\u001b[43m(\u001b[49m\u001b[38;5;124;43m\"\u001b[39;49m\u001b[38;5;124;43mencoding\u001b[39;49m\u001b[38;5;124;43m\"\u001b[39;49m\u001b[43m,\u001b[49m\u001b[43m \u001b[49m\u001b[38;5;28;43;01mNone\u001b[39;49;00m\u001b[43m)\u001b[49m\u001b[43m,\u001b[49m\n\u001b[0;32m   1884\u001b[0m \u001b[43m    \u001b[49m\u001b[43mcompression\u001b[49m\u001b[38;5;241;43m=\u001b[39;49m\u001b[38;5;28;43mself\u001b[39;49m\u001b[38;5;241;43m.\u001b[39;49m\u001b[43moptions\u001b[49m\u001b[38;5;241;43m.\u001b[39;49m\u001b[43mget\u001b[49m\u001b[43m(\u001b[49m\u001b[38;5;124;43m\"\u001b[39;49m\u001b[38;5;124;43mcompression\u001b[39;49m\u001b[38;5;124;43m\"\u001b[39;49m\u001b[43m,\u001b[49m\u001b[43m \u001b[49m\u001b[38;5;28;43;01mNone\u001b[39;49;00m\u001b[43m)\u001b[49m\u001b[43m,\u001b[49m\n\u001b[0;32m   1885\u001b[0m \u001b[43m    \u001b[49m\u001b[43mmemory_map\u001b[49m\u001b[38;5;241;43m=\u001b[39;49m\u001b[38;5;28;43mself\u001b[39;49m\u001b[38;5;241;43m.\u001b[39;49m\u001b[43moptions\u001b[49m\u001b[38;5;241;43m.\u001b[39;49m\u001b[43mget\u001b[49m\u001b[43m(\u001b[49m\u001b[38;5;124;43m\"\u001b[39;49m\u001b[38;5;124;43mmemory_map\u001b[39;49m\u001b[38;5;124;43m\"\u001b[39;49m\u001b[43m,\u001b[49m\u001b[43m \u001b[49m\u001b[38;5;28;43;01mFalse\u001b[39;49;00m\u001b[43m)\u001b[49m\u001b[43m,\u001b[49m\n\u001b[0;32m   1886\u001b[0m \u001b[43m    \u001b[49m\u001b[43mis_text\u001b[49m\u001b[38;5;241;43m=\u001b[39;49m\u001b[43mis_text\u001b[49m\u001b[43m,\u001b[49m\n\u001b[0;32m   1887\u001b[0m \u001b[43m    \u001b[49m\u001b[43merrors\u001b[49m\u001b[38;5;241;43m=\u001b[39;49m\u001b[38;5;28;43mself\u001b[39;49m\u001b[38;5;241;43m.\u001b[39;49m\u001b[43moptions\u001b[49m\u001b[38;5;241;43m.\u001b[39;49m\u001b[43mget\u001b[49m\u001b[43m(\u001b[49m\u001b[38;5;124;43m\"\u001b[39;49m\u001b[38;5;124;43mencoding_errors\u001b[39;49m\u001b[38;5;124;43m\"\u001b[39;49m\u001b[43m,\u001b[49m\u001b[43m \u001b[49m\u001b[38;5;124;43m\"\u001b[39;49m\u001b[38;5;124;43mstrict\u001b[39;49m\u001b[38;5;124;43m\"\u001b[39;49m\u001b[43m)\u001b[49m\u001b[43m,\u001b[49m\n\u001b[0;32m   1888\u001b[0m \u001b[43m    \u001b[49m\u001b[43mstorage_options\u001b[49m\u001b[38;5;241;43m=\u001b[39;49m\u001b[38;5;28;43mself\u001b[39;49m\u001b[38;5;241;43m.\u001b[39;49m\u001b[43moptions\u001b[49m\u001b[38;5;241;43m.\u001b[39;49m\u001b[43mget\u001b[49m\u001b[43m(\u001b[49m\u001b[38;5;124;43m\"\u001b[39;49m\u001b[38;5;124;43mstorage_options\u001b[39;49m\u001b[38;5;124;43m\"\u001b[39;49m\u001b[43m,\u001b[49m\u001b[43m \u001b[49m\u001b[38;5;28;43;01mNone\u001b[39;49;00m\u001b[43m)\u001b[49m\u001b[43m,\u001b[49m\n\u001b[0;32m   1889\u001b[0m \u001b[43m\u001b[49m\u001b[43m)\u001b[49m\n\u001b[0;32m   1890\u001b[0m \u001b[38;5;28;01massert\u001b[39;00m \u001b[38;5;28mself\u001b[39m\u001b[38;5;241m.\u001b[39mhandles \u001b[38;5;129;01mis\u001b[39;00m \u001b[38;5;129;01mnot\u001b[39;00m \u001b[38;5;28;01mNone\u001b[39;00m\n\u001b[0;32m   1891\u001b[0m f \u001b[38;5;241m=\u001b[39m \u001b[38;5;28mself\u001b[39m\u001b[38;5;241m.\u001b[39mhandles\u001b[38;5;241m.\u001b[39mhandle\n",
            "File \u001b[1;32mc:\\Users\\jdavi\\AppData\\Local\\Programs\\Python\\Python310\\lib\\site-packages\\pandas\\io\\common.py:873\u001b[0m, in \u001b[0;36mget_handle\u001b[1;34m(path_or_buf, mode, encoding, compression, memory_map, is_text, errors, storage_options)\u001b[0m\n\u001b[0;32m    868\u001b[0m \u001b[38;5;28;01melif\u001b[39;00m \u001b[38;5;28misinstance\u001b[39m(handle, \u001b[38;5;28mstr\u001b[39m):\n\u001b[0;32m    869\u001b[0m     \u001b[38;5;66;03m# Check whether the filename is to be opened in binary mode.\u001b[39;00m\n\u001b[0;32m    870\u001b[0m     \u001b[38;5;66;03m# Binary mode does not support 'encoding' and 'newline'.\u001b[39;00m\n\u001b[0;32m    871\u001b[0m     \u001b[38;5;28;01mif\u001b[39;00m ioargs\u001b[38;5;241m.\u001b[39mencoding \u001b[38;5;129;01mand\u001b[39;00m \u001b[38;5;124m\"\u001b[39m\u001b[38;5;124mb\u001b[39m\u001b[38;5;124m\"\u001b[39m \u001b[38;5;129;01mnot\u001b[39;00m \u001b[38;5;129;01min\u001b[39;00m ioargs\u001b[38;5;241m.\u001b[39mmode:\n\u001b[0;32m    872\u001b[0m         \u001b[38;5;66;03m# Encoding\u001b[39;00m\n\u001b[1;32m--> 873\u001b[0m         handle \u001b[38;5;241m=\u001b[39m \u001b[38;5;28;43mopen\u001b[39;49m\u001b[43m(\u001b[49m\n\u001b[0;32m    874\u001b[0m \u001b[43m            \u001b[49m\u001b[43mhandle\u001b[49m\u001b[43m,\u001b[49m\n\u001b[0;32m    875\u001b[0m \u001b[43m            \u001b[49m\u001b[43mioargs\u001b[49m\u001b[38;5;241;43m.\u001b[39;49m\u001b[43mmode\u001b[49m\u001b[43m,\u001b[49m\n\u001b[0;32m    876\u001b[0m \u001b[43m            \u001b[49m\u001b[43mencoding\u001b[49m\u001b[38;5;241;43m=\u001b[39;49m\u001b[43mioargs\u001b[49m\u001b[38;5;241;43m.\u001b[39;49m\u001b[43mencoding\u001b[49m\u001b[43m,\u001b[49m\n\u001b[0;32m    877\u001b[0m \u001b[43m            \u001b[49m\u001b[43merrors\u001b[49m\u001b[38;5;241;43m=\u001b[39;49m\u001b[43merrors\u001b[49m\u001b[43m,\u001b[49m\n\u001b[0;32m    878\u001b[0m \u001b[43m            \u001b[49m\u001b[43mnewline\u001b[49m\u001b[38;5;241;43m=\u001b[39;49m\u001b[38;5;124;43m\"\u001b[39;49m\u001b[38;5;124;43m\"\u001b[39;49m\u001b[43m,\u001b[49m\n\u001b[0;32m    879\u001b[0m \u001b[43m        \u001b[49m\u001b[43m)\u001b[49m\n\u001b[0;32m    880\u001b[0m     \u001b[38;5;28;01melse\u001b[39;00m:\n\u001b[0;32m    881\u001b[0m         \u001b[38;5;66;03m# Binary mode\u001b[39;00m\n\u001b[0;32m    882\u001b[0m         handle \u001b[38;5;241m=\u001b[39m \u001b[38;5;28mopen\u001b[39m(handle, ioargs\u001b[38;5;241m.\u001b[39mmode)\n",
            "\u001b[1;31mFileNotFoundError\u001b[0m: [Errno 2] No such file or directory: './Archivos/DiccionarioPaises.csv'"
          ]
        }
      ],
      "source": [
        "## AUTO-CALIFICADOR\n",
        "\n",
        "# Base variables\n",
        "paises = pd.read_csv(\"./Archivos/DiccionarioPaises.csv\", encoding = \"UTF-8\", delimiter = \";\")\n",
        "nombre_columnas = ['País en español', 'País en inglés']\n",
        "\n",
        "# Caso 1: no existe la función.\n",
        "try:\n",
        "    dif_longitud\n",
        "    assert type(dif_longitud) == type(lambda:None)\n",
        "except:\n",
        "    raise NotImplementedError(\"No existe una función llamada dif_longitud.\",)\n",
        "\n",
        "# Caso 2: la función es interrumpida por errores durante su ejecución.\n",
        "try:\n",
        "    dif_longitud(paises)\n",
        "except:\n",
        "    raise RuntimeError(\"Tu función produce un error al ejecutarse.\")\n",
        "\n",
        "# Caso 3: no retorna un DataFrame.\n",
        "assert type(dif_longitud(paises)) == type(paises), f\"Tu función debe retornar un objeto de tipo {type(paises).__name__}.\"\n",
        "\n",
        "# Caso 4: devuelve un dataframe cuyas columnas tienen nombre distinto de lo esperado\n",
        "assert [*dif_longitud(paises).columns] == nombre_columnas, \"Tu función retorna un DataFrame con columnas cuyos nombres no coinciden con los de los datos del archivo. Asegurate de estar filtrando las columnas indicadas.\"\n",
        "\n",
        "# Caso 5: devuelve un dataframe con cantidad de filas errada.\n",
        "assert dif_longitud(paises).shape[0] == 127, \"Tu función retorna un DataFrame con cantidad de filas errada.\"\n",
        "\n",
        "# Caso 6: No elimina las filas correctas\n",
        "assert sum((dif_longitud(paises)['País en español']+dif_longitud(paises)['País en inglés']).apply(len) % 2) == 0, \"Tu función no elimina las filas correctas del DataFrame.\"\n",
        "\n",
        "\n",
        "# Mensaje de felicitaciones\n",
        "print(\"Felicidades, realizaste este ejercicio correctamente.\")"
      ]
    },
    {
      "cell_type": "markdown",
      "metadata": {
        "deletable": false,
        "editable": false,
        "id": "L8A9BZzam9fa",
        "nbgrader": {
          "cell_type": "markdown",
          "checksum": "fb8c458ca966956148be80eab31bd35f",
          "grade": false,
          "grade_id": "ej7-task",
          "locked": true,
          "schema_version": 3,
          "solution": false,
          "task": false
        }
      },
      "source": [
        "### Ejercicio 7\n",
        "\n",
        "Implementa una función llamada `paises_por_a` que reciba un `DataFrame` por parámetro y retorne el mismo `DataFrame` con los países cuyo nombre en español inicia con la letra `\"A\"`.\n",
        "\n",
        "*Esta función debe retornar un `DataFrame`*."
      ]
    },
    {
      "cell_type": "code",
      "execution_count": null,
      "metadata": {
        "deletable": false,
        "id": "jMnQllukm9fa",
        "nbgrader": {
          "cell_type": "code",
          "checksum": "44c7924d48eb3b2824ea2847be1b2a7a",
          "grade": false,
          "grade_id": "ej7-sol",
          "locked": false,
          "schema_version": 3,
          "solution": true,
          "task": false
        }
      },
      "outputs": [],
      "source": [
        "# your code here\n",
        "\n",
        "def paises_por_a(df):\n",
        "    resultado = df[df[\"País en español\"].str.startswith(\"A\")]\n",
        "    return resultado\n"
      ]
    },
    {
      "cell_type": "code",
      "execution_count": null,
      "metadata": {
        "deletable": false,
        "editable": false,
        "id": "Ldwxt7JSm9fa",
        "nbgrader": {
          "cell_type": "code",
          "checksum": "2f155130a1e0168edf84af3a06995801",
          "grade": true,
          "grade_id": "ej7-test",
          "locked": true,
          "points": 1,
          "schema_version": 3,
          "solution": false,
          "task": false
        }
      },
      "outputs": [
        {
          "ename": "FileNotFoundError",
          "evalue": "[Errno 2] No such file or directory: './Archivos/DiccionarioPaises.csv'",
          "output_type": "error",
          "traceback": [
            "\u001b[1;31m---------------------------------------------------------------------------\u001b[0m",
            "\u001b[1;31mFileNotFoundError\u001b[0m                         Traceback (most recent call last)",
            "Cell \u001b[1;32mIn[40], line 4\u001b[0m\n\u001b[0;32m      1\u001b[0m \u001b[38;5;66;03m## AUTO-CALIFICADOR\u001b[39;00m\n\u001b[0;32m      2\u001b[0m \n\u001b[0;32m      3\u001b[0m \u001b[38;5;66;03m# Base variables\u001b[39;00m\n\u001b[1;32m----> 4\u001b[0m paises \u001b[38;5;241m=\u001b[39m \u001b[43mpd\u001b[49m\u001b[38;5;241;43m.\u001b[39;49m\u001b[43mread_csv\u001b[49m\u001b[43m(\u001b[49m\u001b[38;5;124;43m\"\u001b[39;49m\u001b[38;5;124;43m./Archivos/DiccionarioPaises.csv\u001b[39;49m\u001b[38;5;124;43m\"\u001b[39;49m\u001b[43m,\u001b[49m\u001b[43m \u001b[49m\u001b[43mencoding\u001b[49m\u001b[43m \u001b[49m\u001b[38;5;241;43m=\u001b[39;49m\u001b[43m \u001b[49m\u001b[38;5;124;43m\"\u001b[39;49m\u001b[38;5;124;43mUTF-8\u001b[39;49m\u001b[38;5;124;43m\"\u001b[39;49m\u001b[43m,\u001b[49m\u001b[43m \u001b[49m\u001b[43mdelimiter\u001b[49m\u001b[43m \u001b[49m\u001b[38;5;241;43m=\u001b[39;49m\u001b[43m \u001b[49m\u001b[38;5;124;43m\"\u001b[39;49m\u001b[38;5;124;43m;\u001b[39;49m\u001b[38;5;124;43m\"\u001b[39;49m\u001b[43m)\u001b[49m\n\u001b[0;32m      5\u001b[0m nombre_columnas \u001b[38;5;241m=\u001b[39m [\u001b[38;5;124m'\u001b[39m\u001b[38;5;124mPaís en español\u001b[39m\u001b[38;5;124m'\u001b[39m, \u001b[38;5;124m'\u001b[39m\u001b[38;5;124mPaís en inglés\u001b[39m\u001b[38;5;124m'\u001b[39m]\n\u001b[0;32m      7\u001b[0m \u001b[38;5;66;03m# Caso 1: no existe la función.\u001b[39;00m\n",
            "File \u001b[1;32mc:\\Users\\jdavi\\AppData\\Local\\Programs\\Python\\Python310\\lib\\site-packages\\pandas\\io\\parsers\\readers.py:1026\u001b[0m, in \u001b[0;36mread_csv\u001b[1;34m(filepath_or_buffer, sep, delimiter, header, names, index_col, usecols, dtype, engine, converters, true_values, false_values, skipinitialspace, skiprows, skipfooter, nrows, na_values, keep_default_na, na_filter, verbose, skip_blank_lines, parse_dates, infer_datetime_format, keep_date_col, date_parser, date_format, dayfirst, cache_dates, iterator, chunksize, compression, thousands, decimal, lineterminator, quotechar, quoting, doublequote, escapechar, comment, encoding, encoding_errors, dialect, on_bad_lines, delim_whitespace, low_memory, memory_map, float_precision, storage_options, dtype_backend)\u001b[0m\n\u001b[0;32m   1013\u001b[0m kwds_defaults \u001b[38;5;241m=\u001b[39m _refine_defaults_read(\n\u001b[0;32m   1014\u001b[0m     dialect,\n\u001b[0;32m   1015\u001b[0m     delimiter,\n\u001b[1;32m   (...)\u001b[0m\n\u001b[0;32m   1022\u001b[0m     dtype_backend\u001b[38;5;241m=\u001b[39mdtype_backend,\n\u001b[0;32m   1023\u001b[0m )\n\u001b[0;32m   1024\u001b[0m kwds\u001b[38;5;241m.\u001b[39mupdate(kwds_defaults)\n\u001b[1;32m-> 1026\u001b[0m \u001b[38;5;28;01mreturn\u001b[39;00m \u001b[43m_read\u001b[49m\u001b[43m(\u001b[49m\u001b[43mfilepath_or_buffer\u001b[49m\u001b[43m,\u001b[49m\u001b[43m \u001b[49m\u001b[43mkwds\u001b[49m\u001b[43m)\u001b[49m\n",
            "File \u001b[1;32mc:\\Users\\jdavi\\AppData\\Local\\Programs\\Python\\Python310\\lib\\site-packages\\pandas\\io\\parsers\\readers.py:620\u001b[0m, in \u001b[0;36m_read\u001b[1;34m(filepath_or_buffer, kwds)\u001b[0m\n\u001b[0;32m    617\u001b[0m _validate_names(kwds\u001b[38;5;241m.\u001b[39mget(\u001b[38;5;124m\"\u001b[39m\u001b[38;5;124mnames\u001b[39m\u001b[38;5;124m\"\u001b[39m, \u001b[38;5;28;01mNone\u001b[39;00m))\n\u001b[0;32m    619\u001b[0m \u001b[38;5;66;03m# Create the parser.\u001b[39;00m\n\u001b[1;32m--> 620\u001b[0m parser \u001b[38;5;241m=\u001b[39m TextFileReader(filepath_or_buffer, \u001b[38;5;241m*\u001b[39m\u001b[38;5;241m*\u001b[39mkwds)\n\u001b[0;32m    622\u001b[0m \u001b[38;5;28;01mif\u001b[39;00m chunksize \u001b[38;5;129;01mor\u001b[39;00m iterator:\n\u001b[0;32m    623\u001b[0m     \u001b[38;5;28;01mreturn\u001b[39;00m parser\n",
            "File \u001b[1;32mc:\\Users\\jdavi\\AppData\\Local\\Programs\\Python\\Python310\\lib\\site-packages\\pandas\\io\\parsers\\readers.py:1620\u001b[0m, in \u001b[0;36mTextFileReader.__init__\u001b[1;34m(self, f, engine, **kwds)\u001b[0m\n\u001b[0;32m   1617\u001b[0m     \u001b[38;5;28mself\u001b[39m\u001b[38;5;241m.\u001b[39moptions[\u001b[38;5;124m\"\u001b[39m\u001b[38;5;124mhas_index_names\u001b[39m\u001b[38;5;124m\"\u001b[39m] \u001b[38;5;241m=\u001b[39m kwds[\u001b[38;5;124m\"\u001b[39m\u001b[38;5;124mhas_index_names\u001b[39m\u001b[38;5;124m\"\u001b[39m]\n\u001b[0;32m   1619\u001b[0m \u001b[38;5;28mself\u001b[39m\u001b[38;5;241m.\u001b[39mhandles: IOHandles \u001b[38;5;241m|\u001b[39m \u001b[38;5;28;01mNone\u001b[39;00m \u001b[38;5;241m=\u001b[39m \u001b[38;5;28;01mNone\u001b[39;00m\n\u001b[1;32m-> 1620\u001b[0m \u001b[38;5;28mself\u001b[39m\u001b[38;5;241m.\u001b[39m_engine \u001b[38;5;241m=\u001b[39m \u001b[38;5;28;43mself\u001b[39;49m\u001b[38;5;241;43m.\u001b[39;49m\u001b[43m_make_engine\u001b[49m\u001b[43m(\u001b[49m\u001b[43mf\u001b[49m\u001b[43m,\u001b[49m\u001b[43m \u001b[49m\u001b[38;5;28;43mself\u001b[39;49m\u001b[38;5;241;43m.\u001b[39;49m\u001b[43mengine\u001b[49m\u001b[43m)\u001b[49m\n",
            "File \u001b[1;32mc:\\Users\\jdavi\\AppData\\Local\\Programs\\Python\\Python310\\lib\\site-packages\\pandas\\io\\parsers\\readers.py:1880\u001b[0m, in \u001b[0;36mTextFileReader._make_engine\u001b[1;34m(self, f, engine)\u001b[0m\n\u001b[0;32m   1878\u001b[0m     \u001b[38;5;28;01mif\u001b[39;00m \u001b[38;5;124m\"\u001b[39m\u001b[38;5;124mb\u001b[39m\u001b[38;5;124m\"\u001b[39m \u001b[38;5;129;01mnot\u001b[39;00m \u001b[38;5;129;01min\u001b[39;00m mode:\n\u001b[0;32m   1879\u001b[0m         mode \u001b[38;5;241m+\u001b[39m\u001b[38;5;241m=\u001b[39m \u001b[38;5;124m\"\u001b[39m\u001b[38;5;124mb\u001b[39m\u001b[38;5;124m\"\u001b[39m\n\u001b[1;32m-> 1880\u001b[0m \u001b[38;5;28mself\u001b[39m\u001b[38;5;241m.\u001b[39mhandles \u001b[38;5;241m=\u001b[39m \u001b[43mget_handle\u001b[49m\u001b[43m(\u001b[49m\n\u001b[0;32m   1881\u001b[0m \u001b[43m    \u001b[49m\u001b[43mf\u001b[49m\u001b[43m,\u001b[49m\n\u001b[0;32m   1882\u001b[0m \u001b[43m    \u001b[49m\u001b[43mmode\u001b[49m\u001b[43m,\u001b[49m\n\u001b[0;32m   1883\u001b[0m \u001b[43m    \u001b[49m\u001b[43mencoding\u001b[49m\u001b[38;5;241;43m=\u001b[39;49m\u001b[38;5;28;43mself\u001b[39;49m\u001b[38;5;241;43m.\u001b[39;49m\u001b[43moptions\u001b[49m\u001b[38;5;241;43m.\u001b[39;49m\u001b[43mget\u001b[49m\u001b[43m(\u001b[49m\u001b[38;5;124;43m\"\u001b[39;49m\u001b[38;5;124;43mencoding\u001b[39;49m\u001b[38;5;124;43m\"\u001b[39;49m\u001b[43m,\u001b[49m\u001b[43m \u001b[49m\u001b[38;5;28;43;01mNone\u001b[39;49;00m\u001b[43m)\u001b[49m\u001b[43m,\u001b[49m\n\u001b[0;32m   1884\u001b[0m \u001b[43m    \u001b[49m\u001b[43mcompression\u001b[49m\u001b[38;5;241;43m=\u001b[39;49m\u001b[38;5;28;43mself\u001b[39;49m\u001b[38;5;241;43m.\u001b[39;49m\u001b[43moptions\u001b[49m\u001b[38;5;241;43m.\u001b[39;49m\u001b[43mget\u001b[49m\u001b[43m(\u001b[49m\u001b[38;5;124;43m\"\u001b[39;49m\u001b[38;5;124;43mcompression\u001b[39;49m\u001b[38;5;124;43m\"\u001b[39;49m\u001b[43m,\u001b[49m\u001b[43m \u001b[49m\u001b[38;5;28;43;01mNone\u001b[39;49;00m\u001b[43m)\u001b[49m\u001b[43m,\u001b[49m\n\u001b[0;32m   1885\u001b[0m \u001b[43m    \u001b[49m\u001b[43mmemory_map\u001b[49m\u001b[38;5;241;43m=\u001b[39;49m\u001b[38;5;28;43mself\u001b[39;49m\u001b[38;5;241;43m.\u001b[39;49m\u001b[43moptions\u001b[49m\u001b[38;5;241;43m.\u001b[39;49m\u001b[43mget\u001b[49m\u001b[43m(\u001b[49m\u001b[38;5;124;43m\"\u001b[39;49m\u001b[38;5;124;43mmemory_map\u001b[39;49m\u001b[38;5;124;43m\"\u001b[39;49m\u001b[43m,\u001b[49m\u001b[43m \u001b[49m\u001b[38;5;28;43;01mFalse\u001b[39;49;00m\u001b[43m)\u001b[49m\u001b[43m,\u001b[49m\n\u001b[0;32m   1886\u001b[0m \u001b[43m    \u001b[49m\u001b[43mis_text\u001b[49m\u001b[38;5;241;43m=\u001b[39;49m\u001b[43mis_text\u001b[49m\u001b[43m,\u001b[49m\n\u001b[0;32m   1887\u001b[0m \u001b[43m    \u001b[49m\u001b[43merrors\u001b[49m\u001b[38;5;241;43m=\u001b[39;49m\u001b[38;5;28;43mself\u001b[39;49m\u001b[38;5;241;43m.\u001b[39;49m\u001b[43moptions\u001b[49m\u001b[38;5;241;43m.\u001b[39;49m\u001b[43mget\u001b[49m\u001b[43m(\u001b[49m\u001b[38;5;124;43m\"\u001b[39;49m\u001b[38;5;124;43mencoding_errors\u001b[39;49m\u001b[38;5;124;43m\"\u001b[39;49m\u001b[43m,\u001b[49m\u001b[43m \u001b[49m\u001b[38;5;124;43m\"\u001b[39;49m\u001b[38;5;124;43mstrict\u001b[39;49m\u001b[38;5;124;43m\"\u001b[39;49m\u001b[43m)\u001b[49m\u001b[43m,\u001b[49m\n\u001b[0;32m   1888\u001b[0m \u001b[43m    \u001b[49m\u001b[43mstorage_options\u001b[49m\u001b[38;5;241;43m=\u001b[39;49m\u001b[38;5;28;43mself\u001b[39;49m\u001b[38;5;241;43m.\u001b[39;49m\u001b[43moptions\u001b[49m\u001b[38;5;241;43m.\u001b[39;49m\u001b[43mget\u001b[49m\u001b[43m(\u001b[49m\u001b[38;5;124;43m\"\u001b[39;49m\u001b[38;5;124;43mstorage_options\u001b[39;49m\u001b[38;5;124;43m\"\u001b[39;49m\u001b[43m,\u001b[49m\u001b[43m \u001b[49m\u001b[38;5;28;43;01mNone\u001b[39;49;00m\u001b[43m)\u001b[49m\u001b[43m,\u001b[49m\n\u001b[0;32m   1889\u001b[0m \u001b[43m\u001b[49m\u001b[43m)\u001b[49m\n\u001b[0;32m   1890\u001b[0m \u001b[38;5;28;01massert\u001b[39;00m \u001b[38;5;28mself\u001b[39m\u001b[38;5;241m.\u001b[39mhandles \u001b[38;5;129;01mis\u001b[39;00m \u001b[38;5;129;01mnot\u001b[39;00m \u001b[38;5;28;01mNone\u001b[39;00m\n\u001b[0;32m   1891\u001b[0m f \u001b[38;5;241m=\u001b[39m \u001b[38;5;28mself\u001b[39m\u001b[38;5;241m.\u001b[39mhandles\u001b[38;5;241m.\u001b[39mhandle\n",
            "File \u001b[1;32mc:\\Users\\jdavi\\AppData\\Local\\Programs\\Python\\Python310\\lib\\site-packages\\pandas\\io\\common.py:873\u001b[0m, in \u001b[0;36mget_handle\u001b[1;34m(path_or_buf, mode, encoding, compression, memory_map, is_text, errors, storage_options)\u001b[0m\n\u001b[0;32m    868\u001b[0m \u001b[38;5;28;01melif\u001b[39;00m \u001b[38;5;28misinstance\u001b[39m(handle, \u001b[38;5;28mstr\u001b[39m):\n\u001b[0;32m    869\u001b[0m     \u001b[38;5;66;03m# Check whether the filename is to be opened in binary mode.\u001b[39;00m\n\u001b[0;32m    870\u001b[0m     \u001b[38;5;66;03m# Binary mode does not support 'encoding' and 'newline'.\u001b[39;00m\n\u001b[0;32m    871\u001b[0m     \u001b[38;5;28;01mif\u001b[39;00m ioargs\u001b[38;5;241m.\u001b[39mencoding \u001b[38;5;129;01mand\u001b[39;00m \u001b[38;5;124m\"\u001b[39m\u001b[38;5;124mb\u001b[39m\u001b[38;5;124m\"\u001b[39m \u001b[38;5;129;01mnot\u001b[39;00m \u001b[38;5;129;01min\u001b[39;00m ioargs\u001b[38;5;241m.\u001b[39mmode:\n\u001b[0;32m    872\u001b[0m         \u001b[38;5;66;03m# Encoding\u001b[39;00m\n\u001b[1;32m--> 873\u001b[0m         handle \u001b[38;5;241m=\u001b[39m \u001b[38;5;28;43mopen\u001b[39;49m\u001b[43m(\u001b[49m\n\u001b[0;32m    874\u001b[0m \u001b[43m            \u001b[49m\u001b[43mhandle\u001b[49m\u001b[43m,\u001b[49m\n\u001b[0;32m    875\u001b[0m \u001b[43m            \u001b[49m\u001b[43mioargs\u001b[49m\u001b[38;5;241;43m.\u001b[39;49m\u001b[43mmode\u001b[49m\u001b[43m,\u001b[49m\n\u001b[0;32m    876\u001b[0m \u001b[43m            \u001b[49m\u001b[43mencoding\u001b[49m\u001b[38;5;241;43m=\u001b[39;49m\u001b[43mioargs\u001b[49m\u001b[38;5;241;43m.\u001b[39;49m\u001b[43mencoding\u001b[49m\u001b[43m,\u001b[49m\n\u001b[0;32m    877\u001b[0m \u001b[43m            \u001b[49m\u001b[43merrors\u001b[49m\u001b[38;5;241;43m=\u001b[39;49m\u001b[43merrors\u001b[49m\u001b[43m,\u001b[49m\n\u001b[0;32m    878\u001b[0m \u001b[43m            \u001b[49m\u001b[43mnewline\u001b[49m\u001b[38;5;241;43m=\u001b[39;49m\u001b[38;5;124;43m\"\u001b[39;49m\u001b[38;5;124;43m\"\u001b[39;49m\u001b[43m,\u001b[49m\n\u001b[0;32m    879\u001b[0m \u001b[43m        \u001b[49m\u001b[43m)\u001b[49m\n\u001b[0;32m    880\u001b[0m     \u001b[38;5;28;01melse\u001b[39;00m:\n\u001b[0;32m    881\u001b[0m         \u001b[38;5;66;03m# Binary mode\u001b[39;00m\n\u001b[0;32m    882\u001b[0m         handle \u001b[38;5;241m=\u001b[39m \u001b[38;5;28mopen\u001b[39m(handle, ioargs\u001b[38;5;241m.\u001b[39mmode)\n",
            "\u001b[1;31mFileNotFoundError\u001b[0m: [Errno 2] No such file or directory: './Archivos/DiccionarioPaises.csv'"
          ]
        }
      ],
      "source": [
        "## AUTO-CALIFICADOR\n",
        "\n",
        "# Base variables\n",
        "paises = pd.read_csv(\"./Archivos/DiccionarioPaises.csv\", encoding = \"UTF-8\", delimiter = \";\")\n",
        "nombre_columnas = ['País en español', 'País en inglés']\n",
        "\n",
        "# Caso 1: no existe la función.\n",
        "try:\n",
        "    paises_por_a\n",
        "    assert type(paises_por_a) == type(lambda:None)\n",
        "except:\n",
        "    raise NotImplementedError(\"No existe una función llamada paises_por_a.\",)\n",
        "\n",
        "# Caso 2: la función es interrumpida por errores durante su ejecución.\n",
        "try:\n",
        "    paises_por_a(paises)\n",
        "except:\n",
        "    raise RuntimeError(\"Tu función produce un error al ejecutarse.\")\n",
        "\n",
        "# Caso 3: no retorna un dataframe.\n",
        "assert type(paises_por_a(paises)) == type(paises), f\"Tu función debe retornar un objeto de tipo {type(paises).__name__}.\"\n",
        "\n",
        "# Caso 4: devuelve un dataframe cuyas columnas tienen nombre distinto de lo esperado\n",
        "assert [*paises_por_a(paises).columns] == nombre_columnas, \"Tu función retorna un DataFrame con columnas cuyos nombres no coinciden con los de los datos del archivo. Asegurate de estar filtrando las columnas indicadas.\"\n",
        "\n",
        "# Caso 5: devuelve un dataframe con cantidad de filas errada.\n",
        "assert paises_por_a(paises).shape[0] == 13, \"Tu función retorna un DataFrame con cantidad de filas errada.\"\n",
        "\n",
        "# Caso 6: No elimina las filas correctas\n",
        "lista_a = ['Afganistán', 'Albania', 'Alemania', 'Andorra', 'Angola', 'Antigua y Barbuda', 'Arabia Saudí', 'Argelia', 'Argentina', 'Armenia', 'Australia', 'Austria', 'Azerbaiyán']\n",
        "\n",
        "assert lista_a == [*paises_por_a(paises)['País en español']], \"Tu función no elimina las filas correctas del DataFrame.\"\n",
        "\n",
        "\n",
        "# Mensaje de felicitaciones\n",
        "print(\"Felicidades, realizaste este ejercicio correctamente.\")"
      ]
    },
    {
      "cell_type": "markdown",
      "metadata": {
        "deletable": false,
        "editable": false,
        "id": "-ytQXCIGm9fa",
        "nbgrader": {
          "cell_type": "markdown",
          "checksum": "0b56d823784ef5e06ca93e157b197db5",
          "grade": false,
          "grade_id": "ej8-enun",
          "locked": true,
          "schema_version": 3,
          "solution": false,
          "task": false
        }
      },
      "source": [
        "### Ejercicio 8\n",
        "\n",
        "A continuación encuentras una tupla con las letras del alfabeto."
      ]
    },
    {
      "cell_type": "code",
      "execution_count": null,
      "metadata": {
        "deletable": false,
        "editable": false,
        "id": "V1wx0rBmm9fa",
        "nbgrader": {
          "cell_type": "code",
          "checksum": "5a81dc948011d0af80b75d14671cd98b",
          "grade": false,
          "grade_id": "ej8-data",
          "locked": true,
          "schema_version": 3,
          "solution": false,
          "task": false
        }
      },
      "outputs": [],
      "source": [
        "# Esta celda no es modificable.\n",
        "\n",
        "alfabeto = ('A', 'B', 'C', 'D', 'E', 'F', 'G', 'H', 'I',\n",
        "            'J', 'K', 'L', 'M', 'N', 'Ñ', 'O', 'P', 'Q',\n",
        "            'R', 'S', 'T', 'U', 'V', 'W', 'X', 'Y', 'Z')"
      ]
    },
    {
      "cell_type": "markdown",
      "metadata": {
        "deletable": false,
        "editable": false,
        "id": "ez8SRYyMm9fb",
        "nbgrader": {
          "cell_type": "markdown",
          "checksum": "55f755aefeec5b2db5903d9c5afb378d",
          "grade": false,
          "grade_id": "ej8-task",
          "locked": true,
          "schema_version": 3,
          "solution": false,
          "task": false
        }
      },
      "source": [
        "Implementa una función llamada `inicia_con` que reciba un `DataFrame` por parámetro y retorne un diccionario cuyas llaves sean las letras del abecedario y el valor de cada llave sea el número de países cuyo nombre en inglés inicia con la respectiva letra.\n",
        "\n",
        "*Esta función debe retornar un diccionario*."
      ]
    },
    {
      "cell_type": "code",
      "execution_count": null,
      "metadata": {
        "deletable": false,
        "id": "DXpGeMsOm9fb",
        "nbgrader": {
          "cell_type": "code",
          "checksum": "8ff0de965ae8291f9a9aad3836810a1f",
          "grade": false,
          "grade_id": "ej8-sol",
          "locked": false,
          "schema_version": 3,
          "solution": true,
          "task": false
        }
      },
      "outputs": [],
      "source": [
        "# your code here\n",
        "def inicia_con(df):\n",
        "    resultado = {}\n",
        "    \n",
        "    for letra in alfabeto:\n",
        "        contador = 0\n",
        "        for pais in df[\"País en inglés\"]:\n",
        "            if pais.startswith(letra):\n",
        "                contador += 1\n",
        "        \n",
        "        resultado[letra] = contador\n",
        "    \n",
        "    return resultado\n"
      ]
    },
    {
      "cell_type": "code",
      "execution_count": 36,
      "metadata": {
        "deletable": false,
        "editable": false,
        "id": "WtmEny5om9fb",
        "nbgrader": {
          "cell_type": "code",
          "checksum": "5e8afe13e77e5ec34c7170364e2cda88",
          "grade": true,
          "grade_id": "ej8-test",
          "locked": true,
          "points": 1,
          "schema_version": 3,
          "solution": false,
          "task": false
        }
      },
      "outputs": [
        {
          "ename": "FileNotFoundError",
          "evalue": "[Errno 2] No such file or directory: './Archivos/DiccionarioPaises.csv'",
          "output_type": "error",
          "traceback": [
            "\u001b[1;31m---------------------------------------------------------------------------\u001b[0m",
            "\u001b[1;31mFileNotFoundError\u001b[0m                         Traceback (most recent call last)",
            "Cell \u001b[1;32mIn[36], line 4\u001b[0m\n\u001b[0;32m      1\u001b[0m \u001b[38;5;66;03m## AUTO-CALIFICADOR\u001b[39;00m\n\u001b[0;32m      2\u001b[0m \n\u001b[0;32m      3\u001b[0m \u001b[38;5;66;03m# Base variables\u001b[39;00m\n\u001b[1;32m----> 4\u001b[0m paises \u001b[38;5;241m=\u001b[39m \u001b[43mpd\u001b[49m\u001b[38;5;241;43m.\u001b[39;49m\u001b[43mread_csv\u001b[49m\u001b[43m(\u001b[49m\u001b[38;5;124;43m\"\u001b[39;49m\u001b[38;5;124;43m./Archivos/DiccionarioPaises.csv\u001b[39;49m\u001b[38;5;124;43m\"\u001b[39;49m\u001b[43m,\u001b[49m\u001b[43m \u001b[49m\u001b[43mencoding\u001b[49m\u001b[43m \u001b[49m\u001b[38;5;241;43m=\u001b[39;49m\u001b[43m \u001b[49m\u001b[38;5;124;43m\"\u001b[39;49m\u001b[38;5;124;43mUTF-8\u001b[39;49m\u001b[38;5;124;43m\"\u001b[39;49m\u001b[43m,\u001b[49m\u001b[43m \u001b[49m\u001b[43mdelimiter\u001b[49m\u001b[43m \u001b[49m\u001b[38;5;241;43m=\u001b[39;49m\u001b[43m \u001b[49m\u001b[38;5;124;43m\"\u001b[39;49m\u001b[38;5;124;43m;\u001b[39;49m\u001b[38;5;124;43m\"\u001b[39;49m\u001b[43m)\u001b[49m\n\u001b[0;32m      5\u001b[0m nombre_columnas \u001b[38;5;241m=\u001b[39m [\u001b[38;5;124m'\u001b[39m\u001b[38;5;124mPaís en español\u001b[39m\u001b[38;5;124m'\u001b[39m, \u001b[38;5;124m'\u001b[39m\u001b[38;5;124mPaís en inglés\u001b[39m\u001b[38;5;124m'\u001b[39m]\n\u001b[0;32m      6\u001b[0m alfabeto \u001b[38;5;241m=\u001b[39m (\u001b[38;5;124m'\u001b[39m\u001b[38;5;124mA\u001b[39m\u001b[38;5;124m'\u001b[39m, \u001b[38;5;124m'\u001b[39m\u001b[38;5;124mB\u001b[39m\u001b[38;5;124m'\u001b[39m, \u001b[38;5;124m'\u001b[39m\u001b[38;5;124mC\u001b[39m\u001b[38;5;124m'\u001b[39m, \u001b[38;5;124m'\u001b[39m\u001b[38;5;124mD\u001b[39m\u001b[38;5;124m'\u001b[39m, \u001b[38;5;124m'\u001b[39m\u001b[38;5;124mE\u001b[39m\u001b[38;5;124m'\u001b[39m, \u001b[38;5;124m'\u001b[39m\u001b[38;5;124mF\u001b[39m\u001b[38;5;124m'\u001b[39m, \u001b[38;5;124m'\u001b[39m\u001b[38;5;124mG\u001b[39m\u001b[38;5;124m'\u001b[39m, \u001b[38;5;124m'\u001b[39m\u001b[38;5;124mH\u001b[39m\u001b[38;5;124m'\u001b[39m, \u001b[38;5;124m'\u001b[39m\u001b[38;5;124mI\u001b[39m\u001b[38;5;124m'\u001b[39m,\n\u001b[0;32m      7\u001b[0m             \u001b[38;5;124m'\u001b[39m\u001b[38;5;124mJ\u001b[39m\u001b[38;5;124m'\u001b[39m, \u001b[38;5;124m'\u001b[39m\u001b[38;5;124mK\u001b[39m\u001b[38;5;124m'\u001b[39m, \u001b[38;5;124m'\u001b[39m\u001b[38;5;124mL\u001b[39m\u001b[38;5;124m'\u001b[39m, \u001b[38;5;124m'\u001b[39m\u001b[38;5;124mM\u001b[39m\u001b[38;5;124m'\u001b[39m, \u001b[38;5;124m'\u001b[39m\u001b[38;5;124mN\u001b[39m\u001b[38;5;124m'\u001b[39m, \u001b[38;5;124m'\u001b[39m\u001b[38;5;124mÑ\u001b[39m\u001b[38;5;124m'\u001b[39m, \u001b[38;5;124m'\u001b[39m\u001b[38;5;124mO\u001b[39m\u001b[38;5;124m'\u001b[39m, \u001b[38;5;124m'\u001b[39m\u001b[38;5;124mP\u001b[39m\u001b[38;5;124m'\u001b[39m, \u001b[38;5;124m'\u001b[39m\u001b[38;5;124mQ\u001b[39m\u001b[38;5;124m'\u001b[39m,\n\u001b[0;32m      8\u001b[0m             \u001b[38;5;124m'\u001b[39m\u001b[38;5;124mR\u001b[39m\u001b[38;5;124m'\u001b[39m, \u001b[38;5;124m'\u001b[39m\u001b[38;5;124mS\u001b[39m\u001b[38;5;124m'\u001b[39m, \u001b[38;5;124m'\u001b[39m\u001b[38;5;124mT\u001b[39m\u001b[38;5;124m'\u001b[39m, \u001b[38;5;124m'\u001b[39m\u001b[38;5;124mU\u001b[39m\u001b[38;5;124m'\u001b[39m, \u001b[38;5;124m'\u001b[39m\u001b[38;5;124mV\u001b[39m\u001b[38;5;124m'\u001b[39m, \u001b[38;5;124m'\u001b[39m\u001b[38;5;124mW\u001b[39m\u001b[38;5;124m'\u001b[39m, \u001b[38;5;124m'\u001b[39m\u001b[38;5;124mX\u001b[39m\u001b[38;5;124m'\u001b[39m, \u001b[38;5;124m'\u001b[39m\u001b[38;5;124mY\u001b[39m\u001b[38;5;124m'\u001b[39m, \u001b[38;5;124m'\u001b[39m\u001b[38;5;124mZ\u001b[39m\u001b[38;5;124m'\u001b[39m)\n",
            "File \u001b[1;32mc:\\Users\\jdavi\\AppData\\Local\\Programs\\Python\\Python310\\lib\\site-packages\\pandas\\io\\parsers\\readers.py:1026\u001b[0m, in \u001b[0;36mread_csv\u001b[1;34m(filepath_or_buffer, sep, delimiter, header, names, index_col, usecols, dtype, engine, converters, true_values, false_values, skipinitialspace, skiprows, skipfooter, nrows, na_values, keep_default_na, na_filter, verbose, skip_blank_lines, parse_dates, infer_datetime_format, keep_date_col, date_parser, date_format, dayfirst, cache_dates, iterator, chunksize, compression, thousands, decimal, lineterminator, quotechar, quoting, doublequote, escapechar, comment, encoding, encoding_errors, dialect, on_bad_lines, delim_whitespace, low_memory, memory_map, float_precision, storage_options, dtype_backend)\u001b[0m\n\u001b[0;32m   1013\u001b[0m kwds_defaults \u001b[38;5;241m=\u001b[39m _refine_defaults_read(\n\u001b[0;32m   1014\u001b[0m     dialect,\n\u001b[0;32m   1015\u001b[0m     delimiter,\n\u001b[1;32m   (...)\u001b[0m\n\u001b[0;32m   1022\u001b[0m     dtype_backend\u001b[38;5;241m=\u001b[39mdtype_backend,\n\u001b[0;32m   1023\u001b[0m )\n\u001b[0;32m   1024\u001b[0m kwds\u001b[38;5;241m.\u001b[39mupdate(kwds_defaults)\n\u001b[1;32m-> 1026\u001b[0m \u001b[38;5;28;01mreturn\u001b[39;00m \u001b[43m_read\u001b[49m\u001b[43m(\u001b[49m\u001b[43mfilepath_or_buffer\u001b[49m\u001b[43m,\u001b[49m\u001b[43m \u001b[49m\u001b[43mkwds\u001b[49m\u001b[43m)\u001b[49m\n",
            "File \u001b[1;32mc:\\Users\\jdavi\\AppData\\Local\\Programs\\Python\\Python310\\lib\\site-packages\\pandas\\io\\parsers\\readers.py:620\u001b[0m, in \u001b[0;36m_read\u001b[1;34m(filepath_or_buffer, kwds)\u001b[0m\n\u001b[0;32m    617\u001b[0m _validate_names(kwds\u001b[38;5;241m.\u001b[39mget(\u001b[38;5;124m\"\u001b[39m\u001b[38;5;124mnames\u001b[39m\u001b[38;5;124m\"\u001b[39m, \u001b[38;5;28;01mNone\u001b[39;00m))\n\u001b[0;32m    619\u001b[0m \u001b[38;5;66;03m# Create the parser.\u001b[39;00m\n\u001b[1;32m--> 620\u001b[0m parser \u001b[38;5;241m=\u001b[39m TextFileReader(filepath_or_buffer, \u001b[38;5;241m*\u001b[39m\u001b[38;5;241m*\u001b[39mkwds)\n\u001b[0;32m    622\u001b[0m \u001b[38;5;28;01mif\u001b[39;00m chunksize \u001b[38;5;129;01mor\u001b[39;00m iterator:\n\u001b[0;32m    623\u001b[0m     \u001b[38;5;28;01mreturn\u001b[39;00m parser\n",
            "File \u001b[1;32mc:\\Users\\jdavi\\AppData\\Local\\Programs\\Python\\Python310\\lib\\site-packages\\pandas\\io\\parsers\\readers.py:1620\u001b[0m, in \u001b[0;36mTextFileReader.__init__\u001b[1;34m(self, f, engine, **kwds)\u001b[0m\n\u001b[0;32m   1617\u001b[0m     \u001b[38;5;28mself\u001b[39m\u001b[38;5;241m.\u001b[39moptions[\u001b[38;5;124m\"\u001b[39m\u001b[38;5;124mhas_index_names\u001b[39m\u001b[38;5;124m\"\u001b[39m] \u001b[38;5;241m=\u001b[39m kwds[\u001b[38;5;124m\"\u001b[39m\u001b[38;5;124mhas_index_names\u001b[39m\u001b[38;5;124m\"\u001b[39m]\n\u001b[0;32m   1619\u001b[0m \u001b[38;5;28mself\u001b[39m\u001b[38;5;241m.\u001b[39mhandles: IOHandles \u001b[38;5;241m|\u001b[39m \u001b[38;5;28;01mNone\u001b[39;00m \u001b[38;5;241m=\u001b[39m \u001b[38;5;28;01mNone\u001b[39;00m\n\u001b[1;32m-> 1620\u001b[0m \u001b[38;5;28mself\u001b[39m\u001b[38;5;241m.\u001b[39m_engine \u001b[38;5;241m=\u001b[39m \u001b[38;5;28;43mself\u001b[39;49m\u001b[38;5;241;43m.\u001b[39;49m\u001b[43m_make_engine\u001b[49m\u001b[43m(\u001b[49m\u001b[43mf\u001b[49m\u001b[43m,\u001b[49m\u001b[43m \u001b[49m\u001b[38;5;28;43mself\u001b[39;49m\u001b[38;5;241;43m.\u001b[39;49m\u001b[43mengine\u001b[49m\u001b[43m)\u001b[49m\n",
            "File \u001b[1;32mc:\\Users\\jdavi\\AppData\\Local\\Programs\\Python\\Python310\\lib\\site-packages\\pandas\\io\\parsers\\readers.py:1880\u001b[0m, in \u001b[0;36mTextFileReader._make_engine\u001b[1;34m(self, f, engine)\u001b[0m\n\u001b[0;32m   1878\u001b[0m     \u001b[38;5;28;01mif\u001b[39;00m \u001b[38;5;124m\"\u001b[39m\u001b[38;5;124mb\u001b[39m\u001b[38;5;124m\"\u001b[39m \u001b[38;5;129;01mnot\u001b[39;00m \u001b[38;5;129;01min\u001b[39;00m mode:\n\u001b[0;32m   1879\u001b[0m         mode \u001b[38;5;241m+\u001b[39m\u001b[38;5;241m=\u001b[39m \u001b[38;5;124m\"\u001b[39m\u001b[38;5;124mb\u001b[39m\u001b[38;5;124m\"\u001b[39m\n\u001b[1;32m-> 1880\u001b[0m \u001b[38;5;28mself\u001b[39m\u001b[38;5;241m.\u001b[39mhandles \u001b[38;5;241m=\u001b[39m \u001b[43mget_handle\u001b[49m\u001b[43m(\u001b[49m\n\u001b[0;32m   1881\u001b[0m \u001b[43m    \u001b[49m\u001b[43mf\u001b[49m\u001b[43m,\u001b[49m\n\u001b[0;32m   1882\u001b[0m \u001b[43m    \u001b[49m\u001b[43mmode\u001b[49m\u001b[43m,\u001b[49m\n\u001b[0;32m   1883\u001b[0m \u001b[43m    \u001b[49m\u001b[43mencoding\u001b[49m\u001b[38;5;241;43m=\u001b[39;49m\u001b[38;5;28;43mself\u001b[39;49m\u001b[38;5;241;43m.\u001b[39;49m\u001b[43moptions\u001b[49m\u001b[38;5;241;43m.\u001b[39;49m\u001b[43mget\u001b[49m\u001b[43m(\u001b[49m\u001b[38;5;124;43m\"\u001b[39;49m\u001b[38;5;124;43mencoding\u001b[39;49m\u001b[38;5;124;43m\"\u001b[39;49m\u001b[43m,\u001b[49m\u001b[43m \u001b[49m\u001b[38;5;28;43;01mNone\u001b[39;49;00m\u001b[43m)\u001b[49m\u001b[43m,\u001b[49m\n\u001b[0;32m   1884\u001b[0m \u001b[43m    \u001b[49m\u001b[43mcompression\u001b[49m\u001b[38;5;241;43m=\u001b[39;49m\u001b[38;5;28;43mself\u001b[39;49m\u001b[38;5;241;43m.\u001b[39;49m\u001b[43moptions\u001b[49m\u001b[38;5;241;43m.\u001b[39;49m\u001b[43mget\u001b[49m\u001b[43m(\u001b[49m\u001b[38;5;124;43m\"\u001b[39;49m\u001b[38;5;124;43mcompression\u001b[39;49m\u001b[38;5;124;43m\"\u001b[39;49m\u001b[43m,\u001b[49m\u001b[43m \u001b[49m\u001b[38;5;28;43;01mNone\u001b[39;49;00m\u001b[43m)\u001b[49m\u001b[43m,\u001b[49m\n\u001b[0;32m   1885\u001b[0m \u001b[43m    \u001b[49m\u001b[43mmemory_map\u001b[49m\u001b[38;5;241;43m=\u001b[39;49m\u001b[38;5;28;43mself\u001b[39;49m\u001b[38;5;241;43m.\u001b[39;49m\u001b[43moptions\u001b[49m\u001b[38;5;241;43m.\u001b[39;49m\u001b[43mget\u001b[49m\u001b[43m(\u001b[49m\u001b[38;5;124;43m\"\u001b[39;49m\u001b[38;5;124;43mmemory_map\u001b[39;49m\u001b[38;5;124;43m\"\u001b[39;49m\u001b[43m,\u001b[49m\u001b[43m \u001b[49m\u001b[38;5;28;43;01mFalse\u001b[39;49;00m\u001b[43m)\u001b[49m\u001b[43m,\u001b[49m\n\u001b[0;32m   1886\u001b[0m \u001b[43m    \u001b[49m\u001b[43mis_text\u001b[49m\u001b[38;5;241;43m=\u001b[39;49m\u001b[43mis_text\u001b[49m\u001b[43m,\u001b[49m\n\u001b[0;32m   1887\u001b[0m \u001b[43m    \u001b[49m\u001b[43merrors\u001b[49m\u001b[38;5;241;43m=\u001b[39;49m\u001b[38;5;28;43mself\u001b[39;49m\u001b[38;5;241;43m.\u001b[39;49m\u001b[43moptions\u001b[49m\u001b[38;5;241;43m.\u001b[39;49m\u001b[43mget\u001b[49m\u001b[43m(\u001b[49m\u001b[38;5;124;43m\"\u001b[39;49m\u001b[38;5;124;43mencoding_errors\u001b[39;49m\u001b[38;5;124;43m\"\u001b[39;49m\u001b[43m,\u001b[49m\u001b[43m \u001b[49m\u001b[38;5;124;43m\"\u001b[39;49m\u001b[38;5;124;43mstrict\u001b[39;49m\u001b[38;5;124;43m\"\u001b[39;49m\u001b[43m)\u001b[49m\u001b[43m,\u001b[49m\n\u001b[0;32m   1888\u001b[0m \u001b[43m    \u001b[49m\u001b[43mstorage_options\u001b[49m\u001b[38;5;241;43m=\u001b[39;49m\u001b[38;5;28;43mself\u001b[39;49m\u001b[38;5;241;43m.\u001b[39;49m\u001b[43moptions\u001b[49m\u001b[38;5;241;43m.\u001b[39;49m\u001b[43mget\u001b[49m\u001b[43m(\u001b[49m\u001b[38;5;124;43m\"\u001b[39;49m\u001b[38;5;124;43mstorage_options\u001b[39;49m\u001b[38;5;124;43m\"\u001b[39;49m\u001b[43m,\u001b[49m\u001b[43m \u001b[49m\u001b[38;5;28;43;01mNone\u001b[39;49;00m\u001b[43m)\u001b[49m\u001b[43m,\u001b[49m\n\u001b[0;32m   1889\u001b[0m \u001b[43m\u001b[49m\u001b[43m)\u001b[49m\n\u001b[0;32m   1890\u001b[0m \u001b[38;5;28;01massert\u001b[39;00m \u001b[38;5;28mself\u001b[39m\u001b[38;5;241m.\u001b[39mhandles \u001b[38;5;129;01mis\u001b[39;00m \u001b[38;5;129;01mnot\u001b[39;00m \u001b[38;5;28;01mNone\u001b[39;00m\n\u001b[0;32m   1891\u001b[0m f \u001b[38;5;241m=\u001b[39m \u001b[38;5;28mself\u001b[39m\u001b[38;5;241m.\u001b[39mhandles\u001b[38;5;241m.\u001b[39mhandle\n",
            "File \u001b[1;32mc:\\Users\\jdavi\\AppData\\Local\\Programs\\Python\\Python310\\lib\\site-packages\\pandas\\io\\common.py:873\u001b[0m, in \u001b[0;36mget_handle\u001b[1;34m(path_or_buf, mode, encoding, compression, memory_map, is_text, errors, storage_options)\u001b[0m\n\u001b[0;32m    868\u001b[0m \u001b[38;5;28;01melif\u001b[39;00m \u001b[38;5;28misinstance\u001b[39m(handle, \u001b[38;5;28mstr\u001b[39m):\n\u001b[0;32m    869\u001b[0m     \u001b[38;5;66;03m# Check whether the filename is to be opened in binary mode.\u001b[39;00m\n\u001b[0;32m    870\u001b[0m     \u001b[38;5;66;03m# Binary mode does not support 'encoding' and 'newline'.\u001b[39;00m\n\u001b[0;32m    871\u001b[0m     \u001b[38;5;28;01mif\u001b[39;00m ioargs\u001b[38;5;241m.\u001b[39mencoding \u001b[38;5;129;01mand\u001b[39;00m \u001b[38;5;124m\"\u001b[39m\u001b[38;5;124mb\u001b[39m\u001b[38;5;124m\"\u001b[39m \u001b[38;5;129;01mnot\u001b[39;00m \u001b[38;5;129;01min\u001b[39;00m ioargs\u001b[38;5;241m.\u001b[39mmode:\n\u001b[0;32m    872\u001b[0m         \u001b[38;5;66;03m# Encoding\u001b[39;00m\n\u001b[1;32m--> 873\u001b[0m         handle \u001b[38;5;241m=\u001b[39m \u001b[38;5;28;43mopen\u001b[39;49m\u001b[43m(\u001b[49m\n\u001b[0;32m    874\u001b[0m \u001b[43m            \u001b[49m\u001b[43mhandle\u001b[49m\u001b[43m,\u001b[49m\n\u001b[0;32m    875\u001b[0m \u001b[43m            \u001b[49m\u001b[43mioargs\u001b[49m\u001b[38;5;241;43m.\u001b[39;49m\u001b[43mmode\u001b[49m\u001b[43m,\u001b[49m\n\u001b[0;32m    876\u001b[0m \u001b[43m            \u001b[49m\u001b[43mencoding\u001b[49m\u001b[38;5;241;43m=\u001b[39;49m\u001b[43mioargs\u001b[49m\u001b[38;5;241;43m.\u001b[39;49m\u001b[43mencoding\u001b[49m\u001b[43m,\u001b[49m\n\u001b[0;32m    877\u001b[0m \u001b[43m            \u001b[49m\u001b[43merrors\u001b[49m\u001b[38;5;241;43m=\u001b[39;49m\u001b[43merrors\u001b[49m\u001b[43m,\u001b[49m\n\u001b[0;32m    878\u001b[0m \u001b[43m            \u001b[49m\u001b[43mnewline\u001b[49m\u001b[38;5;241;43m=\u001b[39;49m\u001b[38;5;124;43m\"\u001b[39;49m\u001b[38;5;124;43m\"\u001b[39;49m\u001b[43m,\u001b[49m\n\u001b[0;32m    879\u001b[0m \u001b[43m        \u001b[49m\u001b[43m)\u001b[49m\n\u001b[0;32m    880\u001b[0m     \u001b[38;5;28;01melse\u001b[39;00m:\n\u001b[0;32m    881\u001b[0m         \u001b[38;5;66;03m# Binary mode\u001b[39;00m\n\u001b[0;32m    882\u001b[0m         handle \u001b[38;5;241m=\u001b[39m \u001b[38;5;28mopen\u001b[39m(handle, ioargs\u001b[38;5;241m.\u001b[39mmode)\n",
            "\u001b[1;31mFileNotFoundError\u001b[0m: [Errno 2] No such file or directory: './Archivos/DiccionarioPaises.csv'"
          ]
        }
      ],
      "source": [
        "## AUTO-CALIFICADOR\n",
        "\n",
        "# Base variables\n",
        "paises = pd.read_csv(\"./Archivos/DiccionarioPaises.csv\", encoding = \"UTF-8\", delimiter = \";\")\n",
        "nombre_columnas = ['País en español', 'País en inglés']\n",
        "alfabeto = ('A', 'B', 'C', 'D', 'E', 'F', 'G', 'H', 'I',\n",
        "            'J', 'K', 'L', 'M', 'N', 'Ñ', 'O', 'P', 'Q',\n",
        "            'R', 'S', 'T', 'U', 'V', 'W', 'X', 'Y', 'Z')\n",
        "\n",
        "# Caso 1: no existe la función.\n",
        "try:\n",
        "    inicia_con\n",
        "    assert type(inicia_con) == type(lambda:None)\n",
        "except:\n",
        "    raise NotImplementedError(\"No existe una función llamada inicia_con.\",)\n",
        "\n",
        "# Caso 2: la función es interrumpida por errores durante su ejecución.\n",
        "try:\n",
        "    inicia_con(paises)\n",
        "except:\n",
        "    raise RuntimeError(\"Tu función produce un error al ejecutarse.\")\n",
        "\n",
        "# Caso 3: no retorna un diccionario.\n",
        "assert type(inicia_con(paises)) == type({}), f\"Tu función debe retornar un objeto de tipo '{type({}).__name__}'.\"\n",
        "\n",
        "# Caso 4: Llaves son el abecedario\n",
        "assert tuple(inicia_con(paises).keys()) == alfabeto, \"Tu diccionario tiene llaves diferentes al abecedario.\"\n",
        "\n",
        "# Caso 5: Comparamos las que son iguales a cero y otros valores.\n",
        "try:\n",
        "    assert (inicia_con(paises).get('Ñ')) == 0\n",
        "    assert (inicia_con(paises).get('X')) == 0\n",
        "    assert (inicia_con(paises).get('B')) == 18\n",
        "    assert (inicia_con(paises).get('W')) == 1\n",
        "    assert (inicia_con(paises).get('S')) == 24\n",
        "\n",
        "except AssertionError as e:\n",
        "    e.args += (\"Tu respuesta es incorrecta. Revisa tu procedimiento\",)\n",
        "    raise e\n",
        "\n",
        "# Mensaje de felicitaciones\n",
        "print(\"Felicidades, realizaste este ejercicio correctamente.\")"
      ]
    },
    {
      "cell_type": "markdown",
      "metadata": {
        "deletable": false,
        "editable": false,
        "id": "S43PKiEBm9fb",
        "nbgrader": {
          "cell_type": "markdown",
          "checksum": "57ab14c4c02242a7e7ac6e7126de9300",
          "grade": false,
          "grade_id": "creds",
          "locked": true,
          "schema_version": 3,
          "solution": false,
          "task": false
        }
      },
      "source": [
        "## Créditos\n",
        "\n",
        "**Autor(es):** Camilo Falla Moreno, Juan David Reyes Jaimes, Alejandro Mantilla Redondo, Diego Alejandro Cely Gómez\n",
        "\n",
        "**Fecha última actualización:** 17/09/2021"
      ]
    }
  ],
  "metadata": {
    "colab": {
      "provenance": []
    },
    "kernelspec": {
      "display_name": "Python 3",
      "name": "python3"
    },
    "language_info": {
      "codemirror_mode": {
        "name": "ipython",
        "version": 3
      },
      "file_extension": ".py",
      "mimetype": "text/x-python",
      "name": "python",
      "nbconvert_exporter": "python",
      "pygments_lexer": "ipython3",
      "version": "3.10.11"
    },
    "vscode": {
      "interpreter": {
        "hash": "8b8193576751691e149fe4b02bd81acb44aebb7039077c15be9d1f0082e2f63d"
      }
    }
  },
  "nbformat": 4,
  "nbformat_minor": 0
}
